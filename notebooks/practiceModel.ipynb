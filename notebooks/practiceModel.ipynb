{
 "cells": [
  {
   "cell_type": "markdown",
   "metadata": {
    "id": "U9M6mtQU1LE3"
   },
   "source": [
    "* <font color=\"red\">assignment problem</font>. The red color indicates the task that should be done\n",
    "* <font color=\"green\">debugging</font>. The green tells you what is expected outcome. Its primarily goal is to help you get the correct answer\n",
    "* <font color=\"blue\">comments, hints</font>.\n",
    "\n",
    "Assignment 3 (CNN)\n",
    "======================\n"
   ]
  },
  {
   "cell_type": "markdown",
   "metadata": {
    "id": "ihXqIcXAa-PJ"
   },
   "source": [
    "**Useful References:**\n",
    "\n",
    "* official pytorch cifar10 tutorial\n",
    "\n",
    "https://pytorch.org/tutorials/beginner/blitz/cifar10_tutorial.html\n",
    "\n",
    "* tensorboard & colab\n",
    "\n",
    "https://www.tensorflow.org/tensorboard/r2/tensorboard_in_notebooks\n",
    "\n",
    "https://colab.research.google.com/drive/1NbEqqB42VSzYt-mmb4ESc8yxL05U2TIV\n"
   ]
  },
  {
   "cell_type": "markdown",
   "metadata": {
    "id": "o4lg7Ge50BEJ"
   },
   "source": [
    "## Preliminaries\n"
   ]
  },
  {
   "cell_type": "markdown",
   "metadata": {
    "id": "yNFZw0o84vTh"
   },
   "source": [
    "#### Check the environment"
   ]
  },
  {
   "cell_type": "code",
   "execution_count": 331,
   "metadata": {
    "colab": {
     "base_uri": "https://localhost:8080/"
    },
    "id": "ffG0xwVU4iFR",
    "outputId": "9d4d7392-a3de-43af-8985-2136d6ef391e"
   },
   "outputs": [
    {
     "output_type": "stream",
     "name": "stderr",
     "text": [
      "'pwd' is not recognized as an internal or external command,\noperable program or batch file.\n"
     ]
    }
   ],
   "source": [
    "!pwd"
   ]
  },
  {
   "cell_type": "code",
   "execution_count": 332,
   "metadata": {
    "colab": {
     "base_uri": "https://localhost:8080/"
    },
    "id": "H6g0_ZK044jV",
    "outputId": "deb5d73b-ae59-4c9e-a45a-5dd020899a36"
   },
   "outputs": [
    {
     "output_type": "stream",
     "name": "stdout",
     "text": [
      "Wed Dec 30 22:50:27 2020       \n+-----------------------------------------------------------------------------+\n| NVIDIA-SMI 460.89       Driver Version: 460.89       CUDA Version: 11.2     |\n|-------------------------------+----------------------+----------------------+\n| GPU  Name            TCC/WDDM | Bus-Id        Disp.A | Volatile Uncorr. ECC |\n| Fan  Temp  Perf  Pwr:Usage/Cap|         Memory-Usage | GPU-Util  Compute M. |\n|                               |                      |               MIG M. |\n|===============================+======================+======================|\n|   0  GeForce RTX 208... WDDM  | 00000000:01:00.0  On |                  N/A |\n| N/A   46C    P8    17W /  N/A |   2633MiB /  8192MiB |     21%      Default |\n|                               |                      |                  N/A |\n+-------------------------------+----------------------+----------------------+\n                                                                               \n+-----------------------------------------------------------------------------+\n| Processes:                                                                  |\n|  GPU   GI   CI        PID   Type   Process name                  GPU Memory |\n|        ID   ID                                                   Usage      |\n|=============================================================================|\n|    0   N/A  N/A      2084    C+G   Insufficient Permissions        N/A      |\n|    0   N/A  N/A     10132    C+G   ...y\\ShellExperienceHost.exe    N/A      |\n|    0   N/A  N/A     10744    C+G   C:\\Windows\\explorer.exe         N/A      |\n|    0   N/A  N/A     11752    C+G   ...5n1h2txyewy\\SearchApp.exe    N/A      |\n|    0   N/A  N/A     13740    C+G   ...crosoft VS Code2\\Code.exe    N/A      |\n|    0   N/A  N/A     14036    C+G   ...ystemEventUtilityHost.exe    N/A      |\n|    0   N/A  N/A     14460    C+G   ...nputApp\\TextInputHost.exe    N/A      |\n|    0   N/A  N/A     16292    C+G   ...perience\\NVIDIA Share.exe    N/A      |\n|    0   N/A  N/A     17508    C+G   ...cw5n1h2txyewy\\LockApp.exe    N/A      |\n|    0   N/A  N/A     18680    C+G   ...lack\\app-4.12.0\\slack.exe    N/A      |\n|    0   N/A  N/A     18816    C+G   ...me\\Application\\chrome.exe    N/A      |\n|    0   N/A  N/A     37852    C+G   ...s (x86)\\Zoom\\bin\\Zoom.exe    N/A      |\n|    0   N/A  N/A     38588    C+G   ...root\\Office16\\OUTLOOK.EXE    N/A      |\n|    0   N/A  N/A     46500    C+G   ...ekyb3d8bbwe\\onenoteim.exe    N/A      |\n|    0   N/A  N/A     48592    C+G   ...net Explorer\\iexplore.exe    N/A      |\n|    0   N/A  N/A     50836    C+G   ...kyb3d8bbwe\\Calculator.exe    N/A      |\n|    0   N/A  N/A     50924    C+G   ...ype for Desktop\\Skype.exe    N/A      |\n|    0   N/A  N/A     54348    C+G   ...p-2.6.0\\GitHubDesktop.exe    N/A      |\n|    0   N/A  N/A     54792      C   ...nda3\\envs\\py37\\python.exe    N/A      |\n|    0   N/A  N/A     55212    C+G   ...men.OmenCommandCenter.exe    N/A      |\n+-----------------------------------------------------------------------------+\n"
     ]
    }
   ],
   "source": [
    "!nvidia-smi"
   ]
  },
  {
   "cell_type": "markdown",
   "metadata": {
    "id": "P_Ptva0O1r27"
   },
   "source": [
    "#### Load libs, set settings"
   ]
  },
  {
   "cell_type": "code",
   "execution_count": 333,
   "metadata": {
    "id": "b7ehrL_B0V7h"
   },
   "outputs": [],
   "source": [
    "import numpy as np\n",
    "import matplotlib.pyplot as plt\n",
    "\n",
    "import datetime\n",
    "\n",
    "import torch\n",
    "import torch.nn as nn\n",
    "import torch.nn.functional as F\n",
    "import torchvision\n",
    "import torchvision.transforms as transforms\n",
    "\n",
    "# for tensorboard\n",
    "from torch.utils.tensorboard import SummaryWriter"
   ]
  },
  {
   "cell_type": "code",
   "execution_count": 334,
   "metadata": {},
   "outputs": [],
   "source": [
    "from tqdm import tqdm_notebook as tqdm"
   ]
  },
  {
   "cell_type": "code",
   "execution_count": 335,
   "metadata": {
    "id": "_s7-UQiz0UiA"
   },
   "outputs": [],
   "source": [
    "# random seed settings\n",
    "torch.manual_seed(42)\n",
    "np.random.seed(42)"
   ]
  },
  {
   "cell_type": "code",
   "execution_count": 336,
   "metadata": {
    "id": "uxuWDaI-a-PK"
   },
   "outputs": [
    {
     "output_type": "stream",
     "name": "stdout",
     "text": [
      "The autoreload extension is already loaded. To reload it, use:\n",
      "  %reload_ext autoreload\n"
     ]
    }
   ],
   "source": [
    "# load the TensorBoard notebook extension\n",
    "# %load_ext tensorboard\n",
    "\n",
    "# for auto-reloading external modules (files, etc.)\n",
    "%load_ext autoreload\n",
    "%autoreload 2\n",
    "\n",
    "# to be able to make plots inline the notebook \n",
    "# (actually no need for the colab version)\n",
    "%matplotlib inline\n",
    "\n",
    "# make plots a bit nicer\n",
    "plt.matplotlib.rcParams.update({'font.size': 18, 'font.family': 'serif'})"
   ]
  },
  {
   "cell_type": "markdown",
   "metadata": {
    "id": "nX_jVNqa5LLO"
   },
   "source": [
    "## Define pathes"
   ]
  },
  {
   "cell_type": "code",
   "execution_count": 337,
   "metadata": {
    "id": "rhIQyjps5KJX"
   },
   "outputs": [],
   "source": [
    "# path for dataset (will be not there after end of session)\n",
    "path_data = \"../data\""
   ]
  },
  {
   "cell_type": "markdown",
   "metadata": {
    "id": "Q2C1j43ia-PP"
   },
   "source": [
    "## Data\n",
    "\n",
    "Using ``torchvision`` load CIFAR10."
   ]
  },
  {
   "cell_type": "markdown",
   "metadata": {
    "id": "wlyVn2B1a-PS"
   },
   "source": [
    "The output of torchvision datasets are PILImage images of range [0, 1].\n",
    "We transform them to Tensors of normalized range [-1, 1].\n",
    "\n"
   ]
  },
  {
   "cell_type": "code",
   "execution_count": 338,
   "metadata": {},
   "outputs": [
    {
     "output_type": "stream",
     "name": "stdout",
     "text": [
      "cuda:0\n"
     ]
    }
   ],
   "source": [
    "experiment_name = \"e0012_Bs2048_20Ep_CUDA\"\n",
    "\n",
    "BATCH_SIZE = 2048\n",
    "NUM_WORKERS = 2\n",
    "\n",
    "# set number of epoch\n",
    "n_epochs = 20\n",
    "\n",
    "device = torch.device(\"cuda:0\" if torch.cuda.is_available() else \"cpu\")\n",
    "\n",
    "# Assuming that we are on a CUDA machine, this should print a CUDA device:\n",
    "\n",
    "print(device)"
   ]
  },
  {
   "cell_type": "code",
   "execution_count": 339,
   "metadata": {
    "id": "RfL_8JlU60qp"
   },
   "outputs": [],
   "source": [
    "def initWriter(experiment_name = \"e_x\"):\n",
    "    # path for TensorBoard log file (will be not there after end of session)\n",
    "    current_time = datetime.datetime.now().strftime(\"_%d-%m-%Y_%H-%M-%S\")\n",
    "\n",
    "    path_log = 'logs/tensorboard/' + experiment_name + current_time\n",
    "\n",
    "    # set-up TensorBoard writer\n",
    "    writer = SummaryWriter(path_log)\n",
    "    \n",
    "    print(\"initialized log \" + path_log)\n",
    "    return writer"
   ]
  },
  {
   "cell_type": "code",
   "execution_count": 340,
   "metadata": {
    "colab": {
     "base_uri": "https://localhost:8080/"
    },
    "id": "BVxIG9dCa-PT",
    "outputId": "44a999ec-9569-4b90-9171-53906353ae4c"
   },
   "outputs": [
    {
     "output_type": "stream",
     "name": "stdout",
     "text": [
      "Files already downloaded and verified\n",
      "Files already downloaded and verified\n"
     ]
    }
   ],
   "source": [
    "transform = transforms.Compose(\n",
    "    [transforms.ToTensor(),\n",
    "     transforms.Normalize((0.5, 0.5, 0.5), (0.5, 0.5, 0.5))])\n",
    "\n",
    "\n",
    "trainset = torchvision.datasets.CIFAR10(root=path_data, train=True,\n",
    "                                        download=True, transform=transform)\n",
    "trainloader = torch.utils.data.DataLoader(trainset, batch_size=BATCH_SIZE,\n",
    "                                          shuffle=True, num_workers=NUM_WORKERS)\n",
    "\n",
    "testset = torchvision.datasets.CIFAR10(root=path_data, train=False,\n",
    "                                       download=True, transform=transform)\n",
    "testloader = torch.utils.data.DataLoader(testset, batch_size=BATCH_SIZE,\n",
    "                                         shuffle=False, num_workers=NUM_WORKERS)\n",
    "\n",
    "classes = ('plane', 'car', 'bird', 'cat',\n",
    "           'deer', 'dog', 'frog', 'horse', 'ship', 'truck')"
   ]
  },
  {
   "cell_type": "code",
   "execution_count": 341,
   "metadata": {
    "colab": {
     "base_uri": "https://localhost:8080/"
    },
    "id": "Xg8U6R9V5uVv",
    "outputId": "97ae60a3-aa47-429e-e118-b92e0e39c5b2"
   },
   "outputs": [
    {
     "output_type": "stream",
     "name": "stdout",
     "text": [
      " Volume in drive C has no label.\n",
      " Volume Serial Number is 1EB9-42ED\n",
      "\n",
      " Directory of c:\\Users\\dkushn\\Documents\\GitHub\\KushnirDmytro-ucuCV2020_HW6\\notebooks\n",
      "\n",
      "File Not Found\n"
     ]
    }
   ],
   "source": [
    "ls data"
   ]
  },
  {
   "cell_type": "markdown",
   "metadata": {
    "id": "Ivm7Ir4ia-PV"
   },
   "source": [
    "Let us show some of the training images, just for fun.\n",
    "\n"
   ]
  },
  {
   "cell_type": "code",
   "execution_count": 342,
   "metadata": {
    "colab": {
     "base_uri": "https://localhost:8080/",
     "height": 166
    },
    "id": "7XPfmgbxa-PW",
    "outputId": "6b40046a-ce70-431e-bed3-462ac66c1455"
   },
   "outputs": [
    {
     "output_type": "stream",
     "name": "stdout",
     "text": [
      "     horse     plane     car       plane    \n"
     ]
    },
    {
     "output_type": "display_data",
     "data": {
      "text/plain": "<Figure size 432x288 with 1 Axes>",
      "image/svg+xml": "<?xml version=\"1.0\" encoding=\"utf-8\" standalone=\"no\"?>\r\n<!DOCTYPE svg PUBLIC \"-//W3C//DTD SVG 1.1//EN\"\r\n  \"http://www.w3.org/Graphics/SVG/1.1/DTD/svg11.dtd\">\r\n<!-- Created with matplotlib (https://matplotlib.org/) -->\r\n<svg height=\"263.086731pt\" version=\"1.1\" viewBox=\"0 0 90.645208 263.086731\" width=\"90.645208pt\" xmlns=\"http://www.w3.org/2000/svg\" xmlns:xlink=\"http://www.w3.org/1999/xlink\">\r\n <metadata>\r\n  <rdf:RDF xmlns:cc=\"http://creativecommons.org/ns#\" xmlns:dc=\"http://purl.org/dc/elements/1.1/\" xmlns:rdf=\"http://www.w3.org/1999/02/22-rdf-syntax-ns#\">\r\n   <cc:Work>\r\n    <dc:type rdf:resource=\"http://purl.org/dc/dcmitype/StillImage\"/>\r\n    <dc:date>2020-12-30T22:50:36.708500</dc:date>\r\n    <dc:format>image/svg+xml</dc:format>\r\n    <dc:creator>\r\n     <cc:Agent>\r\n      <dc:title>Matplotlib v3.3.2, https://matplotlib.org/</dc:title>\r\n     </cc:Agent>\r\n    </dc:creator>\r\n   </cc:Work>\r\n  </rdf:RDF>\r\n </metadata>\r\n <defs>\r\n  <style type=\"text/css\">*{stroke-linecap:butt;stroke-linejoin:round;}</style>\r\n </defs>\r\n <g id=\"figure_1\">\r\n  <g id=\"patch_1\">\r\n   <path d=\"M 0 263.086731 \r\nL 90.645208 263.086731 \r\nL 90.645208 0 \r\nL 0 0 \r\nz\r\n\" style=\"fill:none;\"/>\r\n  </g>\r\n  <g id=\"axes_1\">\r\n   <g id=\"patch_2\">\r\n    <path d=\"M 60.01 231.466106 \r\nL 66.853391 231.466106 \r\nL 66.853391 14.026106 \r\nL 60.01 14.026106 \r\nz\r\n\" style=\"fill:#ffffff;\"/>\r\n   </g>\r\n   <g clip-path=\"url(#p555858f1f1)\">\r\n    <image height=\"218\" id=\"imagef7a9e87a08\" transform=\"scale(1 -1)translate(0 -218)\" width=\"7\" x=\"60.01\" xlink:href=\"data:image/png;base64,\r\niVBORw0KGgoAAAANSUhEUgAAAAcAAADaCAYAAABq8lgiAAASyUlEQVR4nAXBV4wk+WHY4V//q6qru6s65zB5esKG2bx7t7t33D3u8SQxCJRI4AzYkmxDDwIM2OaTH/zsBxuw321A1oMhGyYsmmcxHEVd5C1vb2dnNkyOPTM9PZ1z7q4qf5/tr//DP7EO2ypVxWIpFEOSZmm++SW/eF1F/M3HeXTDARWJg1wPlzdAzznHgzuLiOWbN1AUlanUbby6l+pwm82DTSIBHeHWwpQbdUKuDsP2iJ/95isWwhrV9iHC6FUIuGq0Tl7jcqjUT084rhhoLgvhlQX75wqaL8lQ8THh1Hn85D2MwSzCE03hDxsEbtyj2a2QunQLs31Op91GtC6yTJsmJxtfEFMkaj3BUd3krCUjIlMpDiwnv/nt54yNIe1CBnOQZ3HCizxq7dNizNX0NfK1PAuxCK2BQLU3kbeyEnOJBZxakLP8OW1GaEqPjd1NhDfgpVMpoti6hFU779xO8eVnX/Dg2i1Et15iqPp5/O0fkC/VONj+nD/9wSQ7ZxuI91am0MMK/+U//0dMhxun/xZrW3B19gHy+pdPWRMDtJ6XucUY6RWds5chXm8cIB8aPpwhFw/T1ymcnWA7ec31+/cptcfIEzNBUuF5nh6tIQpjNKGjx0wuOh3Eu4/uo0UgpqXwhGJ8OiriMTeZiQ+x/eTf/gvLN3EHpb5FAx+SXeF0bwf3WCBEyklmZ5fEME+/N0QUz5C9YQKLlxDXkgZGb431hs70RBSfR+dKKoRsayIPciGW5q6hOEPU600aQmJUH9CtnSAMJchZWePFi09ByMjdGlLfxO8MIG99/Yq7D66QD6hY1piOZZHLFAh4usi6+2vyuyPci0/I5xqEE8vEXEec1pwIu5hAFhZfP/8NmsdDcespa/u76MlZ5GJdJexWeOvtJ7QLNWKRILaunUdpHXk2HGGgO2jl+9g0BZsUQepYfPa7p4gTdY5+8l2axSNq5TKnxTbOyWs4VA05lEjw5Po0f/tJk27PoKvssvGPr0g5TGS/WsYu2fBkz+n5Voiri3jnTNSxhWyd5fjo5X9i8i/+FcW1T5lOziELBdvg7xH7lSG6z0ehWiaVCvHgve8Tj/qxmyuIsBhh6/fIbr9AD/h4s/mczc01XmYGiJZDI1Md4ErYsI0dfLK6ztTkJTzJGILI9wlGI/zln/+EXqfDpEum2usw6rUQc77XKGaPly82sKkSyUiS7e1VhGUijnOrPNs5IHNRwCb7KHa3mLhipzx2IYQzzPV7M3hUGZ9XRb31Ad0LLyGXjDBFGndygUa9RClzyKw6TaOQ5JI6xPZXf/4967VZJun7DnGpitJvYBojctU+YjKQZGI8xR1fm4lUEmH6GLfOWUoHkXfKQ24sLbGy5Oer7Szh5bv4h36q7Rwi5PchC4PVgwojOYjuUTDsBsMBiPNKh6ODLWJTy6TjPo52vqHZGJAxOoiVlWWcgTiZ3BYORcO02VC0JrbYuwiXy8ZgtEcyHOWkUMfrW0S2fFjZfUSvUiAevMfNB39Cs3nK9RmVXu2MpDpC3j7Jotr6fLNdxrAG/MPz/8GV6A1s4y7CF0pz3jUYHX5M1J3A4XrMyDtLpmAijnd2mIp4yJ/u02+2cUcD7L78CodtgBhLE3xwUyURcXHRbhCzy0ylrzC2ydj++r/9V2vj+W8xbUO0yCVG5VNMqUXfF0eMBnWqnSIffbpBpzOmas7TkVJsHxnImseD7kvxHatJWAxJTXoxWnV8l/2IzM4RzsiAP7oeZmyXaDV3CE1/i87oDCGbZ8Q8SVI/+Td0jQH9kI2aGJG0LyBGwascH9rJZfex7CqJhT/BGigcHVexffjhd63k5CTWEFSvm0BwhsrpKx5dSyMnfXEEBofn+0SYQ5Ukfv2rbwjbu4jaeZ3jN5u88+77OGUX7b7Fg8fv4Eg9RIRnJ1HddjY2srT6Y2TTxBcMclhxIianVWzaFLMOgdtnR0sEuX15nnZhF3FcPsEYDjCuTlAsNbAZb/j07/+WlFpC2Dw3kISHVvYYh03ifGvIOH4Fy+VDnFU9XH3wbfRqiSsLs+xkmswmokhCIBbVE9yShDks0B2MuHz1Cqoqk/KrCI8wUPu7ZEou+p0Ba199zepxmaBxgjjN5CjUWvz4xx8i0SUQ0tl/ecx6y4tIuCXqrRrmoEdPEjjsNu7eXKSUrSLGyQVatTwXzTaTkSm0qJPwqMJUIIrQBkdcvfQHVIlTqLRYmUuTnk/S0+2Irddl+ofrFHf+AU1XGbRrvGoLUlNzCPeEjhY3GFGhf37GadFE3dwgqhqIy/Mp8k07tYGDsWvEH/7BW/im42yfnCMf71+wX+/z7oP3MTtZnjV0UvT4/WYZ2QzeZZo9LKtPvWWi9bfYOM2wrMUQp8Vz3F4fG4eHdIZ9pEGd/d0sTUcL2W01qNQPCU58H5dRxuMJ8f6TGl0pinz9aoR+T2Zj+xW6U2UwUnA5NFS7hvjs8x3GXTuJuItis0mmuU3UPU+vfI5IeQTuaRtzlx6iBX28+fUaTl+Yg9Me8rFjjurPvyF85wqzbpl+eonzQp5oLIG4lbSznaszrH/BUPESWLxCPt8kkYgjbOVnPHznMtkTD5Lcwy2KZEs7BMJhBK4larlj/DEfzkEPxJDh2MGL9S2EOz7LVa8XV2AaRgqVup8Hby/hDwWR8xjIowDLepGmM8L1qQhzQcGzxhpyc/839LohZu2CQq1Kt92j+2aVTN2OkAZB3A7B5vYeLt1PYuE2rsQUlUof2aWHKVdPyb/KoASnMMwjCocZbty6jTB7FSamIriWHuLxRrm+PEO7eYISiSBqQ4319XM8upvixXMO9g9IXfuQvXMTMenu04okuZK06LXH/OpX/5fT3V0m1BbywDHgR1cek9l4SjIZZfLSNKNsnnb9ALld6pO3XmK0zpC8bvKdFFb3FEEIURbXONp6ykBO0O2N8bX3mRQaB1ULEZDPuffWQ846MifnRbrWiMU//C4+s4KoNwqMfGX09gHRiI5D6bO/fUxcBZEIxPliZ4lep8VwbOEcq+weH9ANWYgRAqV+wfzdJFZvwNJ8ioC9QIcO8tz0Ap7hiOFFD3/UR3ekMjc/jbvQQuyenTMsFXjr8SPM3oBmo0u93EcSPmRDFozGsL73e6qdBuLYRFOLHJTGiGF9i0pd8PSLV1RaKq70PGb0MvlGEzkVmKbs0PggHaXY8LDx7Jfk8l0evnMHuWYIzPM93pSyJKadzC+/hRbvEZRbiMtLkwwxUV1uKmMLjS7B5Awv9s+Rd3/1GcMJSHnSjGQ3J51TJmQXkseNSH7vT6mO0uSHJ1iyjNmuII1GmPEF5NebnzAqCMY+GXdMod0N02kMqVst5LhpIJQ819LfxRt10/YuEy28YTysI6uDAbovScm/RDO3SsCvU7TtUD41ENsnp7h8PqqH3+B1Ozld/Z98s5Yl6LAhdovgsA2RzD26vQ73b/2QezNhLuw+xMzEJINenqX5O5QaHX760Vek5i8TlB0IX3iKs0KP7d09JmNJHIlJnp3kUCNj5PRknHbDYtAecHh8gj7MY9bthBYfIRrZDcJJD9OTcZrjPna7h5PcERunRwh3MIph2BlrXnQxZGNvh8sr91DHPWS1MeRVLcvVpIJkKSzNrhBwOYmHPYjDYZ2lxev8759/hik7CQW6GHY3raGJPB43OH7xMYv3Z7lzLU0l7+Lp6u8YGU5kzR0iEnCAy8dFoYjdsBF1+aiPZYSzK3FWqVAuFRmNR8guF9fffkDKUUZ4/WGqmQOSiTSMJCqHp6x//gkdTxphuHX++P77vFr7lEKxRs/l5rh6jEcPI8Jal4u9DPmKDVORCMXixKcfYQgF0Rp6yChVnJ4QnVaJxUkXDrlIz2wjqrkDnGKCf/qjD9Bdbk4vVlmeSKL1cgijm+c0u49H6qB6LcROA2/0DtYojzzQbQzLGj/9f1+iu+38/NkWj7wqpgggWz2Z8FyUYU9D0yUePn4bm3cS4TxHFLo2Cpu7uM0+59kcJ+cdxv0BheMsYmVlntkJFzHNQrMbVFpNUpEwmiOBXD5Zx3JFkT2QcsdwuNxsb2UwmheITlFHkSfJN0bUe32oFVFiN0i4nAh7SMfARtDdQVP8CO8i894GDe81RM4Rp9+pUhvO4NVcRFJRcntHWG4FkXIPcSQm8ae/Q33Q56c/+5hPt56yGFCQ55Uyv3u9ga16QjiVxuPwMBs3KTXqyA6nm2uLClr8FmurXxHxdlF9C6iGhehKMVo9g3TaZDCosOy2Ya8eM+h0EeNuG8uQOc1USc/EcYQUzgYWVbmHCLpUukOJXlmi1XXRNMNMpjT87iii3m6Qcjlo1TPYTJOx7KCrudHsGiJfzeKix+u9V4Q1MGx9vKqF2Wki2z0x2sEpFlQX7X6TXRJ8L2ynXjERldwZ3rFFKOChK/m5HPfRrHYx+0PkGysP+WZ1k0hEptO0EwsO2dg9wuOUEcdnm5zKIQ7PSvh8OseHFyxrThThQLQrfZLmOrdGY0w6xNNpKj4/HewIq19jae5b9O0+HG44OjlgbG0xGw8gr+ds5MwM45HEpZ4HBiUmHQpBdYg8e+UyYWVI6TRDLHwdxdLZ3NshbZqI03wLo54nNLdMZehiPDonmFxiq1VAOK0t5EiEkWsXq7TH6vM3DEcjPA4D+dtX75NYuE42W6VTPuS9dx7SdnhpVPOIVwc5tteeEvHIGGEZw3aKqpexD7qImzdvUuhvU8vXKTcNMi+P0AMdbNIIYQmDyLV/x2E5S8wXZqiHqRw7CfkjiHYhQ9qZx+qfcFTsk1i4y3R0hiZ2ZI9Z5M1nv6Al2wjITTplG2OrTyzkRLQ7HvRIimbRwbBVIb58i6Bcw+q2kV8e5dBTQyKTbTRbAqN7xqB7zkW5iJid0VlQhjRPOvTGdu5eW+JcTOHUA4jE7BT6xAKPnvx7PMqI03yTbmiFkehj+2d/9j3rVmKK9cwxsXgc39Qldtefo0hj5InoNN/sP8U58mKXVfrVMrHpaYyRghiLHlJL5bDSpdpTuHt9mrR9n1G1hGyV9pi7NkvrYEQkHubsvMJ5Xac+biEfFmVSchuf34HaKmME5gilbxJotBFq7ApV/wqJ+CSmqvPJr3+JrZ2n0R4j5i9fQm8e0s0d0+gPWLn6kNnYPHZqCK1VImV1GW6/QVVGuJrP2D0q4JEbyINhhariJvLkGqZkp6Xk6JJgOelDqC43YZtKu6cyHDtoKIvQXuUsV0G0exYNU+ftlXfJZjJEfEu093dpnhwh6GUxJcEna89JzMwSyO0jxUNoEQci6nQTSfU52trG6XSST3yLJ1dX8EkCcdqX6RVqvPf2W0yE7Hz+i79h7bDJYTuC3Kx18JSrlP0V7IEgH/zgR4yb5zy+Po88PN9Eeu9DjKP/Q/Y4Q7Vr4HIMqH3WQnZqGm1N50h5wFVtjOq08Cp9emYYEbv9bWTx33EaoKtjJjSdV/unTIdsiOzxaxLyP+deosZJtcx5sU59MCDTlZGDquDGTBI9bSfzd18zc/MybY/B/svPkDsDN19vZ1AGVYRsUSuuMR27Qm79BULIMvL4mBfr2wzMNt+MF5AGfa69/y8RNj3AweYZ9qgdh8vFvXiEjaMCvfIZItsfEp9ZpnB0TLsuYT/PkJrSWX21je1f/9kPraEzgDWy4Y8nyR19jR6dJ+WNICs2A23CyWWRoOFS6bsW0HsDhoVthINZJhJu/GqNQu6YSxOXcehJxtYYOSuZmMU+W3s7xOfeZvXLT5G9Bpevvoe4dvsKD2bC1Csddg72mJia5ebNH1Or15FVq0djPM3j+QjF0Bz50CwTtW0KpTry9nGWQNKN3XeLTmkPrdJAeWuFWcuNnAr5KIk+tWqVeDSKx9thf+1zWn0P4mJrH6lVYuXJd1HsCrt7DWRXjEQygAhdvYUxslN/8wtalRZS9C4vnz+jUqogOvmv8Jt9SpUWw1YdqbDB2ONBC6YRkn+Zps1gZDQQfh+lQZ7bK+9Sa+UQRsdBKqkSm77EYKwQclUxe01c0gBROl5l7+ACXdIJ+3RuTv2Q/ZNt7PYQwhzXkQydWqFO0BflZ5/8FjkcoFitIicW0zQqB9S7MUaSRHjGg3bRoaX2EMItozlT3Hz/LxiZfU7OQ/StNrfffozQugNUt8TZm4+wbBbvXg0hbAL6NYQncZ1irc3/+ruPUJUgflsHh1OjOTKQn369iksW3H/0mIjPTll0ifbcjNUo4lv3lpmcCNCWQHFqZM4CjDpONtZ/j/jk4y8h7CUsopweHXIn5id++RLTAQ/ivkNi0OwiekeoiqCn2alc7JHN7iPy7hFGrs7ShIJDNWgd5dg/esri7DxCCcYo9i8QnghDS2VQ2mEoSRztbSPvZ4Y4PSGOWjLjWpXIpdt4xlDKVhCTnX2a7Ta6JNFXg9gXf4DRKRFeivD/AT6SyvbKW/2LAAAAAElFTkSuQmCC\" y=\"-13.466106\"/>\r\n   </g>\r\n   <g id=\"matplotlib.axis_1\">\r\n    <g id=\"xtick_1\">\r\n     <g id=\"line2d_1\">\r\n      <defs>\r\n       <path d=\"M 0 0 \r\nL 0 3.5 \r\n\" id=\"mb3a1bfcb2f\" style=\"stroke:#000000;stroke-width:0.8;\"/>\r\n      </defs>\r\n      <g>\r\n       <use style=\"stroke:#000000;stroke-width:0.8;\" x=\"60.022488\" xlink:href=\"#mb3a1bfcb2f\" y=\"231.466106\"/>\r\n      </g>\r\n     </g>\r\n     <g id=\"text_1\">\r\n      <!-- 0 -->\r\n      <g transform=\"translate(54.296238 252.143293)scale(0.18 -0.18)\">\r\n       <defs>\r\n        <path d=\"M 31.78125 3.421875 \r\nQ 39.265625 3.421875 42.96875 11.625 \r\nQ 46.6875 19.828125 46.6875 36.375 \r\nQ 46.6875 52.984375 42.96875 61.1875 \r\nQ 39.265625 69.390625 31.78125 69.390625 \r\nQ 24.3125 69.390625 20.59375 61.1875 \r\nQ 16.890625 52.984375 16.890625 36.375 \r\nQ 16.890625 19.828125 20.59375 11.625 \r\nQ 24.3125 3.421875 31.78125 3.421875 \r\nz\r\nM 31.78125 -1.421875 \r\nQ 19.921875 -1.421875 13.25 8.53125 \r\nQ 6.59375 18.5 6.59375 36.375 \r\nQ 6.59375 54.296875 13.25 64.25 \r\nQ 19.921875 74.21875 31.78125 74.21875 \r\nQ 43.703125 74.21875 50.34375 64.25 \r\nQ 56.984375 54.296875 56.984375 36.375 \r\nQ 56.984375 18.5 50.34375 8.53125 \r\nQ 43.703125 -1.421875 31.78125 -1.421875 \r\nz\r\n\" id=\"DejaVuSerif-48\"/>\r\n       </defs>\r\n       <use xlink:href=\"#DejaVuSerif-48\"/>\r\n      </g>\r\n     </g>\r\n    </g>\r\n    <g id=\"xtick_2\">\r\n     <g id=\"line2d_2\">\r\n      <g>\r\n       <use style=\"stroke:#000000;stroke-width:0.8;\" x=\"66.266458\" xlink:href=\"#mb3a1bfcb2f\" y=\"231.466106\"/>\r\n      </g>\r\n     </g>\r\n     <g id=\"text_2\">\r\n      <!-- 250 -->\r\n      <g transform=\"translate(49.087708 252.143293)scale(0.18 -0.18)\">\r\n       <defs>\r\n        <path d=\"M 12.796875 55.515625 \r\nL 7.328125 55.515625 \r\nL 7.328125 68.5 \r\nQ 12.546875 71.296875 17.84375 72.75 \r\nQ 23.140625 74.21875 28.21875 74.21875 \r\nQ 39.59375 74.21875 46.1875 68.703125 \r\nQ 52.78125 63.1875 52.78125 53.71875 \r\nQ 52.78125 43.015625 37.84375 28.125 \r\nQ 36.671875 27 36.078125 26.421875 \r\nL 17.671875 8.015625 \r\nL 48.09375 8.015625 \r\nL 48.09375 17 \r\nL 53.8125 17 \r\nL 53.8125 0 \r\nL 6.78125 0 \r\nL 6.78125 5.328125 \r\nL 28.90625 27.390625 \r\nQ 36.234375 34.71875 39.359375 40.84375 \r\nQ 42.484375 46.96875 42.484375 53.71875 \r\nQ 42.484375 61.078125 38.640625 65.234375 \r\nQ 34.8125 69.390625 28.078125 69.390625 \r\nQ 21.09375 69.390625 17.28125 65.921875 \r\nQ 13.484375 62.453125 12.796875 55.515625 \r\nz\r\n\" id=\"DejaVuSerif-50\"/>\r\n        <path d=\"M 50.296875 72.90625 \r\nL 50.296875 64.890625 \r\nL 16.890625 64.890625 \r\nL 16.890625 44 \r\nQ 19.4375 45.75 22.828125 46.625 \r\nQ 26.21875 47.515625 30.421875 47.515625 \r\nQ 42.234375 47.515625 49.0625 40.96875 \r\nQ 55.90625 34.421875 55.90625 23.09375 \r\nQ 55.90625 11.53125 49 5.046875 \r\nQ 42.09375 -1.421875 29.59375 -1.421875 \r\nQ 24.5625 -1.421875 19.28125 -0.1875 \r\nQ 14.015625 1.03125 8.5 3.515625 \r\nL 8.5 17.671875 \r\nL 14.015625 17.671875 \r\nQ 14.453125 10.75 18.421875 7.078125 \r\nQ 22.40625 3.421875 29.59375 3.421875 \r\nQ 37.3125 3.421875 41.453125 8.5 \r\nQ 45.609375 13.578125 45.609375 23.09375 \r\nQ 45.609375 32.5625 41.484375 37.609375 \r\nQ 37.359375 42.671875 29.59375 42.671875 \r\nQ 25.203125 42.671875 21.84375 41.109375 \r\nQ 18.5 39.546875 15.921875 36.28125 \r\nL 11.71875 36.28125 \r\nL 11.71875 72.90625 \r\nz\r\n\" id=\"DejaVuSerif-53\"/>\r\n       </defs>\r\n       <use xlink:href=\"#DejaVuSerif-50\"/>\r\n       <use x=\"63.623047\" xlink:href=\"#DejaVuSerif-53\"/>\r\n       <use x=\"127.246094\" xlink:href=\"#DejaVuSerif-48\"/>\r\n      </g>\r\n     </g>\r\n    </g>\r\n   </g>\r\n   <g id=\"matplotlib.axis_2\">\r\n    <g id=\"ytick_1\">\r\n     <g id=\"line2d_3\">\r\n      <defs>\r\n       <path d=\"M 0 0 \r\nL -3.5 0 \r\n\" id=\"m375c1f704d\" style=\"stroke:#000000;stroke-width:0.8;\"/>\r\n      </defs>\r\n      <g>\r\n       <use style=\"stroke:#000000;stroke-width:0.8;\" x=\"60.01\" xlink:href=\"#m375c1f704d\" y=\"14.038594\"/>\r\n      </g>\r\n     </g>\r\n     <g id=\"text_3\">\r\n      <!-- 0 -->\r\n      <g transform=\"translate(41.5575 20.877187)scale(0.18 -0.18)\">\r\n       <use xlink:href=\"#DejaVuSerif-48\"/>\r\n      </g>\r\n     </g>\r\n    </g>\r\n    <g id=\"ytick_2\">\r\n     <g id=\"line2d_4\">\r\n      <g>\r\n       <use style=\"stroke:#000000;stroke-width:0.8;\" x=\"60.01\" xlink:href=\"#m375c1f704d\" y=\"63.990351\"/>\r\n      </g>\r\n     </g>\r\n     <g id=\"text_4\">\r\n      <!-- 2000 -->\r\n      <g transform=\"translate(7.2 70.828945)scale(0.18 -0.18)\">\r\n       <use xlink:href=\"#DejaVuSerif-50\"/>\r\n       <use x=\"63.623047\" xlink:href=\"#DejaVuSerif-48\"/>\r\n       <use x=\"127.246094\" xlink:href=\"#DejaVuSerif-48\"/>\r\n       <use x=\"190.869141\" xlink:href=\"#DejaVuSerif-48\"/>\r\n      </g>\r\n     </g>\r\n    </g>\r\n    <g id=\"ytick_3\">\r\n     <g id=\"line2d_5\">\r\n      <g>\r\n       <use style=\"stroke:#000000;stroke-width:0.8;\" x=\"60.01\" xlink:href=\"#m375c1f704d\" y=\"113.942109\"/>\r\n      </g>\r\n     </g>\r\n     <g id=\"text_5\">\r\n      <!-- 4000 -->\r\n      <g transform=\"translate(7.2 120.780702)scale(0.18 -0.18)\">\r\n       <defs>\r\n        <path d=\"M 34.90625 24.703125 \r\nL 34.90625 63.484375 \r\nL 10.015625 24.703125 \r\nz\r\nM 56.390625 0 \r\nL 23.1875 0 \r\nL 23.1875 5.171875 \r\nL 34.90625 5.171875 \r\nL 34.90625 19.484375 \r\nL 3.078125 19.484375 \r\nL 3.078125 24.8125 \r\nL 35.015625 74.21875 \r\nL 44.671875 74.21875 \r\nL 44.671875 24.703125 \r\nL 58.59375 24.703125 \r\nL 58.59375 19.484375 \r\nL 44.671875 19.484375 \r\nL 44.671875 5.171875 \r\nL 56.390625 5.171875 \r\nz\r\n\" id=\"DejaVuSerif-52\"/>\r\n       </defs>\r\n       <use xlink:href=\"#DejaVuSerif-52\"/>\r\n       <use x=\"63.623047\" xlink:href=\"#DejaVuSerif-48\"/>\r\n       <use x=\"127.246094\" xlink:href=\"#DejaVuSerif-48\"/>\r\n       <use x=\"190.869141\" xlink:href=\"#DejaVuSerif-48\"/>\r\n      </g>\r\n     </g>\r\n    </g>\r\n    <g id=\"ytick_4\">\r\n     <g id=\"line2d_6\">\r\n      <g>\r\n       <use style=\"stroke:#000000;stroke-width:0.8;\" x=\"60.01\" xlink:href=\"#m375c1f704d\" y=\"163.893866\"/>\r\n      </g>\r\n     </g>\r\n     <g id=\"text_6\">\r\n      <!-- 6000 -->\r\n      <g transform=\"translate(7.2 170.73246)scale(0.18 -0.18)\">\r\n       <defs>\r\n        <path d=\"M 32.71875 3.421875 \r\nQ 39.59375 3.421875 43.296875 8.46875 \r\nQ 47.015625 13.53125 47.015625 23 \r\nQ 47.015625 32.46875 43.296875 37.515625 \r\nQ 39.59375 42.578125 32.71875 42.578125 \r\nQ 25.734375 42.578125 22.0625 37.6875 \r\nQ 18.40625 32.8125 18.40625 23.578125 \r\nQ 18.40625 13.875 22.109375 8.640625 \r\nQ 25.828125 3.421875 32.71875 3.421875 \r\nz\r\nM 16.796875 40.140625 \r\nQ 20.125 43.796875 24.3125 45.59375 \r\nQ 28.515625 47.40625 33.796875 47.40625 \r\nQ 44.671875 47.40625 51 40.859375 \r\nQ 57.328125 34.328125 57.328125 23 \r\nQ 57.328125 11.921875 50.515625 5.25 \r\nQ 43.703125 -1.421875 32.328125 -1.421875 \r\nQ 19.96875 -1.421875 13.328125 7.78125 \r\nQ 6.6875 17 6.6875 34.078125 \r\nQ 6.6875 53.21875 14.546875 63.71875 \r\nQ 22.40625 74.21875 36.71875 74.21875 \r\nQ 40.578125 74.21875 44.828125 73.484375 \r\nQ 49.078125 72.75 53.515625 71.296875 \r\nL 53.515625 59.28125 \r\nL 48 59.28125 \r\nQ 47.40625 64.203125 44.234375 66.796875 \r\nQ 41.0625 69.390625 35.6875 69.390625 \r\nQ 26.21875 69.390625 21.578125 62.203125 \r\nQ 16.9375 55.03125 16.796875 40.140625 \r\nz\r\n\" id=\"DejaVuSerif-54\"/>\r\n       </defs>\r\n       <use xlink:href=\"#DejaVuSerif-54\"/>\r\n       <use x=\"63.623047\" xlink:href=\"#DejaVuSerif-48\"/>\r\n       <use x=\"127.246094\" xlink:href=\"#DejaVuSerif-48\"/>\r\n       <use x=\"190.869141\" xlink:href=\"#DejaVuSerif-48\"/>\r\n      </g>\r\n     </g>\r\n    </g>\r\n    <g id=\"ytick_5\">\r\n     <g id=\"line2d_7\">\r\n      <g>\r\n       <use style=\"stroke:#000000;stroke-width:0.8;\" x=\"60.01\" xlink:href=\"#m375c1f704d\" y=\"213.845623\"/>\r\n      </g>\r\n     </g>\r\n     <g id=\"text_7\">\r\n      <!-- 8000 -->\r\n      <g transform=\"translate(7.2 220.684217)scale(0.18 -0.18)\">\r\n       <defs>\r\n        <path d=\"M 46.578125 19.921875 \r\nQ 46.578125 27.734375 42.6875 32.046875 \r\nQ 38.8125 36.375 31.78125 36.375 \r\nQ 24.75 36.375 20.875 32.046875 \r\nQ 17 27.734375 17 19.921875 \r\nQ 17 12.0625 20.875 7.734375 \r\nQ 24.75 3.421875 31.78125 3.421875 \r\nQ 38.8125 3.421875 42.6875 7.734375 \r\nQ 46.578125 12.0625 46.578125 19.921875 \r\nz\r\nM 44.578125 55.328125 \r\nQ 44.578125 61.96875 41.203125 65.671875 \r\nQ 37.84375 69.390625 31.78125 69.390625 \r\nQ 25.78125 69.390625 22.390625 65.671875 \r\nQ 19 61.96875 19 55.328125 \r\nQ 19 48.640625 22.390625 44.921875 \r\nQ 25.78125 41.21875 31.78125 41.21875 \r\nQ 37.84375 41.21875 41.203125 44.921875 \r\nQ 44.578125 48.640625 44.578125 55.328125 \r\nz\r\nM 39.3125 38.8125 \r\nQ 47.609375 37.703125 52.25 32.6875 \r\nQ 56.890625 27.6875 56.890625 19.921875 \r\nQ 56.890625 9.671875 50.390625 4.125 \r\nQ 43.890625 -1.421875 31.78125 -1.421875 \r\nQ 19.734375 -1.421875 13.203125 4.125 \r\nQ 6.6875 9.671875 6.6875 19.921875 \r\nQ 6.6875 27.6875 11.328125 32.6875 \r\nQ 15.96875 37.703125 24.3125 38.8125 \r\nQ 16.9375 40.140625 13 44.40625 \r\nQ 9.078125 48.6875 9.078125 55.328125 \r\nQ 9.078125 64.109375 15.125 69.15625 \r\nQ 21.1875 74.21875 31.78125 74.21875 \r\nQ 42.390625 74.21875 48.4375 69.15625 \r\nQ 54.5 64.109375 54.5 55.328125 \r\nQ 54.5 48.6875 50.5625 44.40625 \r\nQ 46.625 40.140625 39.3125 38.8125 \r\nz\r\n\" id=\"DejaVuSerif-56\"/>\r\n       </defs>\r\n       <use xlink:href=\"#DejaVuSerif-56\"/>\r\n       <use x=\"63.623047\" xlink:href=\"#DejaVuSerif-48\"/>\r\n       <use x=\"127.246094\" xlink:href=\"#DejaVuSerif-48\"/>\r\n       <use x=\"190.869141\" xlink:href=\"#DejaVuSerif-48\"/>\r\n      </g>\r\n     </g>\r\n    </g>\r\n   </g>\r\n   <g id=\"patch_3\">\r\n    <path d=\"M 60.01 231.466106 \r\nL 60.01 14.026106 \r\n\" style=\"fill:none;stroke:#000000;stroke-linecap:square;stroke-linejoin:miter;stroke-width:0.8;\"/>\r\n   </g>\r\n   <g id=\"patch_4\">\r\n    <path d=\"M 66.853391 231.466106 \r\nL 66.853391 14.026106 \r\n\" style=\"fill:none;stroke:#000000;stroke-linecap:square;stroke-linejoin:miter;stroke-width:0.8;\"/>\r\n   </g>\r\n   <g id=\"patch_5\">\r\n    <path d=\"M 60.01 231.466106 \r\nL 66.853391 231.466106 \r\n\" style=\"fill:none;stroke:#000000;stroke-linecap:square;stroke-linejoin:miter;stroke-width:0.8;\"/>\r\n   </g>\r\n   <g id=\"patch_6\">\r\n    <path d=\"M 60.01 14.026106 \r\nL 66.853391 14.026106 \r\n\" style=\"fill:none;stroke:#000000;stroke-linecap:square;stroke-linejoin:miter;stroke-width:0.8;\"/>\r\n   </g>\r\n  </g>\r\n </g>\r\n <defs>\r\n  <clipPath id=\"p555858f1f1\">\r\n   <rect height=\"217.44\" width=\"6.843391\" x=\"60.01\" y=\"14.026106\"/>\r\n  </clipPath>\r\n </defs>\r\n</svg>\r\n",
      "image/png": "[encoded data removed]"
     },
     "metadata": {
      "needs_background": "light"
     }
    }
   ],
   "source": [
    "# functions to show an image\n",
    "def imshow(img):\n",
    "    img = img / 2 + 0.5     # unnormalize\n",
    "    npimg = img.numpy()\n",
    "    plt.imshow(np.transpose(npimg, (1, 2, 0)))\n",
    "\n",
    "\n",
    "# get some random training images\n",
    "images, labels = next(iter(trainloader))\n",
    "\n",
    "# show images\n",
    "imshow(torchvision.utils.make_grid(images))\n",
    "# print labels\n",
    "print('     ' + ' '.join('{:9}'.format(classes[labels[j]]) for j in range(4)))"
   ]
  },
  {
   "cell_type": "markdown",
   "metadata": {
    "id": "zkhLoOZ_a-PZ"
   },
   "source": [
    "## Define a Convolution Neural Network\n",
    "\n",
    "Copy the neural network from the Neural Networks section before and modify it to\n",
    "take 3-channel images (instead of 1-channel images as it was defined).\n",
    "\n"
   ]
  },
  {
   "cell_type": "code",
   "execution_count": 343,
   "metadata": {
    "id": "q8gra1gha-Pa"
   },
   "outputs": [],
   "source": [
    "class Net(nn.Module):\n",
    "    def __init__(self):\n",
    "        super(Net, self).__init__()\n",
    "        self.conv1 = nn.Conv2d(3, 6, 5)\n",
    "        self.pool1 = nn.MaxPool2d(2, 2)\n",
    "        self.conv2 = nn.Conv2d(6, 16, 5)\n",
    "        self.pool2 = nn.MaxPool2d(2, 2)\n",
    "        self.fc1 = nn.Linear(16 * 5 * 5, 120)\n",
    "        self.fc2 = nn.Linear(120, 84)\n",
    "        self.fc3 = nn.Linear(84, 10)\n",
    "\n",
    "    def forward(self, x):\n",
    "        x = self.pool1(F.relu(self.conv1(x)))\n",
    "        x = self.pool2(F.relu(self.conv2(x)))\n",
    "        x = x.view(-1, 16 * 5 * 5)\n",
    "        x = F.relu(self.fc1(x))\n",
    "        x = F.relu(self.fc2(x))\n",
    "        x = self.fc3(x)\n",
    "        return x\n",
    "\n",
    "\n",
    "net = Net()"
   ]
  },
  {
   "cell_type": "markdown",
   "metadata": {
    "id": "j_no4Mw2a-Pc"
   },
   "source": [
    "## Define a Loss function\n",
    "\n",
    "Let's use a Classification Cross-Entropy loss\n",
    "\n"
   ]
  },
  {
   "cell_type": "code",
   "execution_count": 344,
   "metadata": {
    "id": "pwPn8sHEBlBQ"
   },
   "outputs": [],
   "source": [
    "criterion = nn.CrossEntropyLoss()"
   ]
  },
  {
   "cell_type": "markdown",
   "metadata": {
    "id": "lUqzv-gba-Pg"
   },
   "source": [
    "## Set-up training\n",
    "\n",
    "\n"
   ]
  },
  {
   "cell_type": "code",
   "execution_count": 345,
   "metadata": {
    "id": "aBxhJuMrC4uV"
   },
   "outputs": [],
   "source": [
    "def train_epoch(train_loader, model, criterion, optimizer, scheduler, \n",
    "                epoch, device, log_interval, globaliter, desc=\"<no description>\"):\n",
    "\n",
    "    model.to(device)\n",
    "    # switch to train mode\n",
    "    model.train()\n",
    "\n",
    "    running_loss = 0.0\n",
    "    tk0 = tqdm(train_loader, desc=desc, unit_scale=train_loader.batch_size)\n",
    "\n",
    "    for batch_idx, (input_data, target) in enumerate(tk0):\n",
    "      \n",
    "        # TODO: do in other way (this is global batch index, for logging)\n",
    "        globaliter += 1\n",
    "      \n",
    "        # extract batch data\n",
    "        target = target.to(device)\n",
    "        input_data = input_data.to(device)\n",
    "\n",
    "        # compute output\n",
    "        output = model(input_data)\n",
    "        loss = criterion(output, target)\n",
    "\n",
    "        # compute gradient and do optimizer step\n",
    "        optimizer.zero_grad()\n",
    "        loss.backward()\n",
    "        optimizer.step()\n",
    "\n",
    "        # Track running loss\n",
    "        running_loss += loss.item() * input_data.size(0)\n",
    "\n",
    "        # logging\n",
    "        if batch_idx % log_interval == 0:\n",
    "\n",
    "            running_loss_avg = running_loss / ((batch_idx+1) * train_loader.batch_size)\n",
    "            tk0.set_postfix(loss=running_loss_avg)\n",
    "        \n",
    "            if (batch_idx > 5):\n",
    "                # log loss\n",
    "                writer.add_scalar('Train/RunningLoss', running_loss_avg, globaliter)\n",
    "            # log LR\n",
    "            lr = scheduler.get_last_lr()[0]\n",
    "            writer.add_scalar('Train/LearningRate', lr, globaliter)\n",
    "\n",
    "    return globaliter, running_loss"
   ]
  },
  {
   "cell_type": "markdown",
   "metadata": {
    "id": "3yrC3MbX6vz7"
   },
   "source": [
    "## Logging"
   ]
  },
  {
   "cell_type": "code",
   "execution_count": 346,
   "metadata": {
    "id": "-_021MUtTV8f"
   },
   "outputs": [],
   "source": [
    "# # images to TensorBoard\n",
    "# images, labels = next(iter(trainloader))\n",
    "# grid = torchvision.utils.make_grid(images)\n",
    "# writer.add_image('images', grid, 0)\n",
    "\n",
    "# # net to TensorBoard\n",
    "# writer.add_graph(net, images)"
   ]
  },
  {
   "source": [
    "## Eval routines"
   ],
   "cell_type": "markdown",
   "metadata": {}
  },
  {
   "cell_type": "code",
   "execution_count": 347,
   "metadata": {},
   "outputs": [],
   "source": [
    "def eval_model(data_loader, model, device, desc = \"Eval\"):\n",
    "    model.to(device)  # eval is not resourse consuming, still fast on cpu\n",
    "    model.eval()\n",
    "    correct = 0\n",
    "    total = 0\n",
    "\n",
    "    accuracy = 0\n",
    "    tk0 = tqdm(data_loader, desc=desc, unit_scale=data_loader.batch_size)\n",
    "    with torch.no_grad():\n",
    "        for data in tk0:\n",
    "            images, labels = data[0].to(device), data[1].to(device)\n",
    "            outputs = net(images)\n",
    "            _, predicted = torch.max(outputs.data, 1)\n",
    "            total += labels.size(0)\n",
    "            correct += (predicted == labels).sum().item()\n",
    "            \n",
    "    accuracy = 100 * correct / total\n",
    "\n",
    "    return accuracy"
   ]
  },
  {
   "cell_type": "code",
   "execution_count": 348,
   "metadata": {},
   "outputs": [],
   "source": [
    "def eval_model_epoch(test_loader, train_loader, writer, model, epoch, device):\n",
    "    test_accuracy = eval_model(test_loader, model, device, \"Eval test. Ep:\" + str(epoch))\n",
    "    train_accuracy = eval_model(train_loader, model, device, \"Eval train. Ep:\" + str(epoch))\n",
    "    print(\"Ep: {} test accuracy: {}\".format(epoch, test_accuracy))\n",
    "    print(\"Ep: {} train accuracy: {}\".format(epoch, train_accuracy))\n",
    "    writer.add_scalars(f'Ep.Accuracy/check_info', { 'test': test_accuracy, 'train': train_accuracy }, epoch)"
   ]
  },
  {
   "cell_type": "markdown",
   "metadata": {
    "id": "dzeJE-3xHcoG"
   },
   "source": [
    "## Training procedure"
   ]
  },
  {
   "cell_type": "code",
   "execution_count": 349,
   "metadata": {
    "colab": {
     "base_uri": "https://localhost:8080/"
    },
    "id": "-CoGbWGaFjnz",
    "outputId": "563c8804-c309-47c0-aa33-c57019404434"
   },
   "outputs": [
    {
     "output_type": "stream",
     "name": "stdout",
     "text": [
      "initialized log logs/tensorboard/e0012_Bs2048_20Ep_CUDA_30-12-2020_22-50-37\n"
     ]
    },
    {
     "output_type": "display_data",
     "data": {
      "text/plain": "Eval test. Ep:0:   0%|          | 0/10240 [00:00<?, ?it/s]",
      "application/vnd.jupyter.widget-view+json": {
       "version_major": 2,
       "version_minor": 0,
       "model_id": "56dccd212aa641d09ad0206ec2ed8d51"
      }
     },
     "metadata": {}
    },
    {
     "output_type": "display_data",
     "data": {
      "text/plain": "Eval train. Ep:0:   0%|          | 0/51200 [00:00<?, ?it/s]",
      "application/vnd.jupyter.widget-view+json": {
       "version_major": 2,
       "version_minor": 0,
       "model_id": "8837e87a9d1640979fd80c43546e3f3d"
      }
     },
     "metadata": {}
    },
    {
     "output_type": "stream",
     "name": "stdout",
     "text": [
      "Ep: 0 test accuracy: 9.25\nEp: 0 train accuracy: 9.272\n"
     ]
    },
    {
     "output_type": "display_data",
     "data": {
      "text/plain": "Training. Ep: 1:   0%|          | 0/51200 [00:00<?, ?it/s]",
      "application/vnd.jupyter.widget-view+json": {
       "version_major": 2,
       "version_minor": 0,
       "model_id": "1686aa2dcdb64d08b1cf727689840782"
      }
     },
     "metadata": {}
    },
    {
     "output_type": "stream",
     "name": "stdout",
     "text": [
      "Ep: 1 Training Loss: 2.2495\n"
     ]
    },
    {
     "output_type": "display_data",
     "data": {
      "text/plain": "Eval test. Ep:1:   0%|          | 0/10240 [00:00<?, ?it/s]",
      "application/vnd.jupyter.widget-view+json": {
       "version_major": 2,
       "version_minor": 0,
       "model_id": "32595d302731408d8bb343730764e6f4"
      }
     },
     "metadata": {}
    },
    {
     "output_type": "display_data",
     "data": {
      "text/plain": "Eval train. Ep:1:   0%|          | 0/51200 [00:00<?, ?it/s]",
      "application/vnd.jupyter.widget-view+json": {
       "version_major": 2,
       "version_minor": 0,
       "model_id": "0a44d6a71d654429aa1900bf1fb13890"
      }
     },
     "metadata": {}
    },
    {
     "output_type": "stream",
     "name": "stdout",
     "text": [
      "Ep: 1 test accuracy: 10.28\nEp: 1 train accuracy: 10.434\nSCHED LR\n[0.01]\n"
     ]
    },
    {
     "output_type": "display_data",
     "data": {
      "text/plain": "Training. Ep: 2:   0%|          | 0/51200 [00:00<?, ?it/s]",
      "application/vnd.jupyter.widget-view+json": {
       "version_major": 2,
       "version_minor": 0,
       "model_id": "0fc43323655c4efd8fae51bc300287be"
      }
     },
     "metadata": {}
    },
    {
     "output_type": "stream",
     "name": "stdout",
     "text": [
      "Ep: 2 Training Loss: 2.2465\n"
     ]
    },
    {
     "output_type": "display_data",
     "data": {
      "text/plain": "Eval test. Ep:2:   0%|          | 0/10240 [00:00<?, ?it/s]",
      "application/vnd.jupyter.widget-view+json": {
       "version_major": 2,
       "version_minor": 0,
       "model_id": "4ead286053a8486bbfa1097037c1992a"
      }
     },
     "metadata": {}
    },
    {
     "output_type": "display_data",
     "data": {
      "text/plain": "Eval train. Ep:2:   0%|          | 0/51200 [00:00<?, ?it/s]",
      "application/vnd.jupyter.widget-view+json": {
       "version_major": 2,
       "version_minor": 0,
       "model_id": "222c9213abf74d089066b76429d7ea19"
      }
     },
     "metadata": {}
    },
    {
     "output_type": "stream",
     "name": "stdout",
     "text": [
      "Ep: 2 test accuracy: 12.23\nEp: 2 train accuracy: 12.018\nSCHED LR\n[0.01]\n"
     ]
    },
    {
     "output_type": "display_data",
     "data": {
      "text/plain": "Training. Ep: 3:   0%|          | 0/51200 [00:00<?, ?it/s]",
      "application/vnd.jupyter.widget-view+json": {
       "version_major": 2,
       "version_minor": 0,
       "model_id": "e583f4fe5e74436dba5a28ff9ed56ea2"
      }
     },
     "metadata": {}
    },
    {
     "output_type": "stream",
     "name": "stdout",
     "text": [
      "Ep: 3 Training Loss: 2.2416\n"
     ]
    },
    {
     "output_type": "display_data",
     "data": {
      "text/plain": "Eval test. Ep:3:   0%|          | 0/10240 [00:00<?, ?it/s]",
      "application/vnd.jupyter.widget-view+json": {
       "version_major": 2,
       "version_minor": 0,
       "model_id": "984064658dd2445b82c8efaa184ac4b3"
      }
     },
     "metadata": {}
    },
    {
     "output_type": "display_data",
     "data": {
      "text/plain": "Eval train. Ep:3:   0%|          | 0/51200 [00:00<?, ?it/s]",
      "application/vnd.jupyter.widget-view+json": {
       "version_major": 2,
       "version_minor": 0,
       "model_id": "b8fc3729b6c74632b88593c1c55187fe"
      }
     },
     "metadata": {}
    },
    {
     "output_type": "stream",
     "name": "stdout",
     "text": [
      "Ep: 3 test accuracy: 20.09\nEp: 3 train accuracy: 19.326\nSCHED LR\n[0.01]\n"
     ]
    },
    {
     "output_type": "display_data",
     "data": {
      "text/plain": "Training. Ep: 4:   0%|          | 0/51200 [00:00<?, ?it/s]",
      "application/vnd.jupyter.widget-view+json": {
       "version_major": 2,
       "version_minor": 0,
       "model_id": "c770fcea269f4532a71909a1843df689"
      }
     },
     "metadata": {}
    },
    {
     "output_type": "stream",
     "name": "stdout",
     "text": [
      "Ep: 4 Training Loss: 2.2281\n"
     ]
    },
    {
     "output_type": "display_data",
     "data": {
      "text/plain": "Eval test. Ep:4:   0%|          | 0/10240 [00:00<?, ?it/s]",
      "application/vnd.jupyter.widget-view+json": {
       "version_major": 2,
       "version_minor": 0,
       "model_id": "426691ef30f14a6981bdf9dcee2aebc9"
      }
     },
     "metadata": {}
    },
    {
     "output_type": "display_data",
     "data": {
      "text/plain": "Eval train. Ep:4:   0%|          | 0/51200 [00:00<?, ?it/s]",
      "application/vnd.jupyter.widget-view+json": {
       "version_major": 2,
       "version_minor": 0,
       "model_id": "6dc4bf43c02d4736999b5b2c7db9ae52"
      }
     },
     "metadata": {}
    },
    {
     "output_type": "stream",
     "name": "stdout",
     "text": [
      "Ep: 4 test accuracy: 22.35\nEp: 4 train accuracy: 21.998\nSCHED LR\n[0.01]\n"
     ]
    },
    {
     "output_type": "display_data",
     "data": {
      "text/plain": "Training. Ep: 5:   0%|          | 0/51200 [00:00<?, ?it/s]",
      "application/vnd.jupyter.widget-view+json": {
       "version_major": 2,
       "version_minor": 0,
       "model_id": "d6a2c4e6444e41a6be3e60dad254fd43"
      }
     },
     "metadata": {}
    },
    {
     "output_type": "stream",
     "name": "stdout",
     "text": [
      "Ep: 5 Training Loss: 2.1767\n"
     ]
    },
    {
     "output_type": "display_data",
     "data": {
      "text/plain": "Eval test. Ep:5:   0%|          | 0/10240 [00:00<?, ?it/s]",
      "application/vnd.jupyter.widget-view+json": {
       "version_major": 2,
       "version_minor": 0,
       "model_id": "c05162d06f4e4b21bb4832c08c9c6cd7"
      }
     },
     "metadata": {}
    },
    {
     "output_type": "display_data",
     "data": {
      "text/plain": "Eval train. Ep:5:   0%|          | 0/51200 [00:00<?, ?it/s]",
      "application/vnd.jupyter.widget-view+json": {
       "version_major": 2,
       "version_minor": 0,
       "model_id": "d207bab784d6450b9b20fdf18d53257f"
      }
     },
     "metadata": {}
    },
    {
     "output_type": "stream",
     "name": "stdout",
     "text": [
      "Ep: 5 test accuracy: 22.21\nEp: 5 train accuracy: 21.974\nSCHED LR\n[0.01]\n"
     ]
    },
    {
     "output_type": "display_data",
     "data": {
      "text/plain": "Training. Ep: 6:   0%|          | 0/51200 [00:00<?, ?it/s]",
      "application/vnd.jupyter.widget-view+json": {
       "version_major": 2,
       "version_minor": 0,
       "model_id": "e2340dd308734b7dba4b33572dd81755"
      }
     },
     "metadata": {}
    },
    {
     "output_type": "stream",
     "name": "stdout",
     "text": [
      "Ep: 6 Training Loss: 2.0659\n"
     ]
    },
    {
     "output_type": "display_data",
     "data": {
      "text/plain": "Eval test. Ep:6:   0%|          | 0/10240 [00:00<?, ?it/s]",
      "application/vnd.jupyter.widget-view+json": {
       "version_major": 2,
       "version_minor": 0,
       "model_id": "5c87f2821cd04e89bcc1f6c0531ed983"
      }
     },
     "metadata": {}
    },
    {
     "output_type": "display_data",
     "data": {
      "text/plain": "Eval train. Ep:6:   0%|          | 0/51200 [00:00<?, ?it/s]",
      "application/vnd.jupyter.widget-view+json": {
       "version_major": 2,
       "version_minor": 0,
       "model_id": "8661c7c2d98c45789b1f8e24dc75569b"
      }
     },
     "metadata": {}
    },
    {
     "output_type": "stream",
     "name": "stdout",
     "text": [
      "Ep: 6 test accuracy: 26.78\nEp: 6 train accuracy: 26.252\nSCHED LR\n[0.01]\n"
     ]
    },
    {
     "output_type": "display_data",
     "data": {
      "text/plain": "Training. Ep: 7:   0%|          | 0/51200 [00:00<?, ?it/s]",
      "application/vnd.jupyter.widget-view+json": {
       "version_major": 2,
       "version_minor": 0,
       "model_id": "7b2a4811ae3742d4bf416ab26f06e789"
      }
     },
     "metadata": {}
    },
    {
     "output_type": "stream",
     "name": "stdout",
     "text": [
      "Ep: 7 Training Loss: 1.9817\n"
     ]
    },
    {
     "output_type": "display_data",
     "data": {
      "text/plain": "Eval test. Ep:7:   0%|          | 0/10240 [00:00<?, ?it/s]",
      "application/vnd.jupyter.widget-view+json": {
       "version_major": 2,
       "version_minor": 0,
       "model_id": "424de3ea41904ce29bb0e64ff38afd31"
      }
     },
     "metadata": {}
    },
    {
     "output_type": "display_data",
     "data": {
      "text/plain": "Eval train. Ep:7:   0%|          | 0/51200 [00:00<?, ?it/s]",
      "application/vnd.jupyter.widget-view+json": {
       "version_major": 2,
       "version_minor": 0,
       "model_id": "b395886362284f18820a43dca248e74b"
      }
     },
     "metadata": {}
    },
    {
     "output_type": "stream",
     "name": "stdout",
     "text": [
      "Ep: 7 test accuracy: 29.23\nEp: 7 train accuracy: 28.648\nSCHED LR\n[0.01]\n"
     ]
    },
    {
     "output_type": "display_data",
     "data": {
      "text/plain": "Training. Ep: 8:   0%|          | 0/51200 [00:00<?, ?it/s]",
      "application/vnd.jupyter.widget-view+json": {
       "version_major": 2,
       "version_minor": 0,
       "model_id": "6b08d259c5b642b2b88277abd03a7695"
      }
     },
     "metadata": {}
    },
    {
     "output_type": "stream",
     "name": "stdout",
     "text": [
      "Ep: 8 Training Loss: 1.9317\n"
     ]
    },
    {
     "output_type": "display_data",
     "data": {
      "text/plain": "Eval test. Ep:8:   0%|          | 0/10240 [00:00<?, ?it/s]",
      "application/vnd.jupyter.widget-view+json": {
       "version_major": 2,
       "version_minor": 0,
       "model_id": "cabe1d0824c14b679ae08dc9646ef14f"
      }
     },
     "metadata": {}
    },
    {
     "output_type": "display_data",
     "data": {
      "text/plain": "Eval train. Ep:8:   0%|          | 0/51200 [00:00<?, ?it/s]",
      "application/vnd.jupyter.widget-view+json": {
       "version_major": 2,
       "version_minor": 0,
       "model_id": "77599f35b4a44d6ea3a07c3fd231d48e"
      }
     },
     "metadata": {}
    },
    {
     "output_type": "stream",
     "name": "stdout",
     "text": [
      "Ep: 8 test accuracy: 30.28\nEp: 8 train accuracy: 29.79\nSCHED LR\n[0.01]\n"
     ]
    },
    {
     "output_type": "display_data",
     "data": {
      "text/plain": "Training. Ep: 9:   0%|          | 0/51200 [00:00<?, ?it/s]",
      "application/vnd.jupyter.widget-view+json": {
       "version_major": 2,
       "version_minor": 0,
       "model_id": "2fef7f359316498c873f81c08a789c47"
      }
     },
     "metadata": {}
    },
    {
     "output_type": "stream",
     "name": "stdout",
     "text": [
      "Ep: 9 Training Loss: 1.8937\n"
     ]
    },
    {
     "output_type": "display_data",
     "data": {
      "text/plain": "Eval test. Ep:9:   0%|          | 0/10240 [00:00<?, ?it/s]",
      "application/vnd.jupyter.widget-view+json": {
       "version_major": 2,
       "version_minor": 0,
       "model_id": "a6eebfa979534f23b11eff0998d1bd25"
      }
     },
     "metadata": {}
    },
    {
     "output_type": "display_data",
     "data": {
      "text/plain": "Eval train. Ep:9:   0%|          | 0/51200 [00:00<?, ?it/s]",
      "application/vnd.jupyter.widget-view+json": {
       "version_major": 2,
       "version_minor": 0,
       "model_id": "df021cb2611a43c9920ab71e44fa6c49"
      }
     },
     "metadata": {}
    },
    {
     "output_type": "stream",
     "name": "stdout",
     "text": [
      "Ep: 9 test accuracy: 31.21\nEp: 9 train accuracy: 30.718\nSCHED LR\n[0.01]\n"
     ]
    },
    {
     "output_type": "display_data",
     "data": {
      "text/plain": "Training. Ep: 10:   0%|          | 0/51200 [00:00<?, ?it/s]",
      "application/vnd.jupyter.widget-view+json": {
       "version_major": 2,
       "version_minor": 0,
       "model_id": "c8f610535e874405a0ac08b61f7c5255"
      }
     },
     "metadata": {}
    },
    {
     "output_type": "stream",
     "name": "stdout",
     "text": [
      "Ep: 10 Training Loss: 1.8579\n"
     ]
    },
    {
     "output_type": "display_data",
     "data": {
      "text/plain": "Eval test. Ep:10:   0%|          | 0/10240 [00:00<?, ?it/s]",
      "application/vnd.jupyter.widget-view+json": {
       "version_major": 2,
       "version_minor": 0,
       "model_id": "c03402e2a38e4b5580c45f90b3a300cf"
      }
     },
     "metadata": {}
    },
    {
     "output_type": "display_data",
     "data": {
      "text/plain": "Eval train. Ep:10:   0%|          | 0/51200 [00:00<?, ?it/s]",
      "application/vnd.jupyter.widget-view+json": {
       "version_major": 2,
       "version_minor": 0,
       "model_id": "5fcbf986b59240f98e18386d4b9508c9"
      }
     },
     "metadata": {}
    },
    {
     "output_type": "stream",
     "name": "stdout",
     "text": [
      "Ep: 10 test accuracy: 32.53\nEp: 10 train accuracy: 32.366\nSCHED LR\n[0.001]\n"
     ]
    },
    {
     "output_type": "display_data",
     "data": {
      "text/plain": "Training. Ep: 11:   0%|          | 0/51200 [00:00<?, ?it/s]",
      "application/vnd.jupyter.widget-view+json": {
       "version_major": 2,
       "version_minor": 0,
       "model_id": "634d92672bb2417b9ee433b8a700d9d4"
      }
     },
     "metadata": {}
    },
    {
     "output_type": "stream",
     "name": "stdout",
     "text": [
      "Ep: 11 Training Loss: 1.8333\n"
     ]
    },
    {
     "output_type": "display_data",
     "data": {
      "text/plain": "Eval test. Ep:11:   0%|          | 0/10240 [00:00<?, ?it/s]",
      "application/vnd.jupyter.widget-view+json": {
       "version_major": 2,
       "version_minor": 0,
       "model_id": "e5c60aa63ec249fdb81344ad0952bb56"
      }
     },
     "metadata": {}
    },
    {
     "output_type": "display_data",
     "data": {
      "text/plain": "Eval train. Ep:11:   0%|          | 0/51200 [00:00<?, ?it/s]",
      "application/vnd.jupyter.widget-view+json": {
       "version_major": 2,
       "version_minor": 0,
       "model_id": "6c18e3aa5bc6456f84c0a891406cf36f"
      }
     },
     "metadata": {}
    },
    {
     "output_type": "stream",
     "name": "stdout",
     "text": [
      "Ep: 11 test accuracy: 32.77\nEp: 11 train accuracy: 32.82\nSCHED LR\n[0.001]\n"
     ]
    },
    {
     "output_type": "display_data",
     "data": {
      "text/plain": "Training. Ep: 12:   0%|          | 0/51200 [00:00<?, ?it/s]",
      "application/vnd.jupyter.widget-view+json": {
       "version_major": 2,
       "version_minor": 0,
       "model_id": "78dba044a68544cfbc07c109cbd153fe"
      }
     },
     "metadata": {}
    },
    {
     "output_type": "stream",
     "name": "stdout",
     "text": [
      "Ep: 12 Training Loss: 1.8290\n"
     ]
    },
    {
     "output_type": "display_data",
     "data": {
      "text/plain": "Eval test. Ep:12:   0%|          | 0/10240 [00:00<?, ?it/s]",
      "application/vnd.jupyter.widget-view+json": {
       "version_major": 2,
       "version_minor": 0,
       "model_id": "40873b4a33564b808df2c4cda9782532"
      }
     },
     "metadata": {}
    },
    {
     "output_type": "display_data",
     "data": {
      "text/plain": "Eval train. Ep:12:   0%|          | 0/51200 [00:00<?, ?it/s]",
      "application/vnd.jupyter.widget-view+json": {
       "version_major": 2,
       "version_minor": 0,
       "model_id": "07667204555d462eb9ea7a2fadc610fd"
      }
     },
     "metadata": {}
    },
    {
     "output_type": "stream",
     "name": "stdout",
     "text": [
      "Ep: 12 test accuracy: 32.93\nEp: 12 train accuracy: 32.848\nSCHED LR\n[0.001]\n"
     ]
    },
    {
     "output_type": "display_data",
     "data": {
      "text/plain": "Training. Ep: 13:   0%|          | 0/51200 [00:00<?, ?it/s]",
      "application/vnd.jupyter.widget-view+json": {
       "version_major": 2,
       "version_minor": 0,
       "model_id": "66724a109691468397883589b6f878bf"
      }
     },
     "metadata": {}
    },
    {
     "output_type": "stream",
     "name": "stdout",
     "text": [
      "Ep: 13 Training Loss: 1.8249\n"
     ]
    },
    {
     "output_type": "display_data",
     "data": {
      "text/plain": "Eval test. Ep:13:   0%|          | 0/10240 [00:00<?, ?it/s]",
      "application/vnd.jupyter.widget-view+json": {
       "version_major": 2,
       "version_minor": 0,
       "model_id": "8fb41f477f814d1b8dc94bd96caf8940"
      }
     },
     "metadata": {}
    },
    {
     "output_type": "display_data",
     "data": {
      "text/plain": "Eval train. Ep:13:   0%|          | 0/51200 [00:00<?, ?it/s]",
      "application/vnd.jupyter.widget-view+json": {
       "version_major": 2,
       "version_minor": 0,
       "model_id": "6672147d51544136934bf43f3627e095"
      }
     },
     "metadata": {}
    },
    {
     "output_type": "stream",
     "name": "stdout",
     "text": [
      "Ep: 13 test accuracy: 33.21\nEp: 13 train accuracy: 33.154\nSCHED LR\n[0.001]\n"
     ]
    },
    {
     "output_type": "display_data",
     "data": {
      "text/plain": "Training. Ep: 14:   0%|          | 0/51200 [00:00<?, ?it/s]",
      "application/vnd.jupyter.widget-view+json": {
       "version_major": 2,
       "version_minor": 0,
       "model_id": "caa097403a1043e195ebb8f3367c15dd"
      }
     },
     "metadata": {}
    },
    {
     "output_type": "stream",
     "name": "stdout",
     "text": [
      "Ep: 14 Training Loss: 1.8207\n"
     ]
    },
    {
     "output_type": "display_data",
     "data": {
      "text/plain": "Eval test. Ep:14:   0%|          | 0/10240 [00:00<?, ?it/s]",
      "application/vnd.jupyter.widget-view+json": {
       "version_major": 2,
       "version_minor": 0,
       "model_id": "fe2057a83e9a44a8b11360a326ee10c7"
      }
     },
     "metadata": {}
    },
    {
     "output_type": "display_data",
     "data": {
      "text/plain": "Eval train. Ep:14:   0%|          | 0/51200 [00:00<?, ?it/s]",
      "application/vnd.jupyter.widget-view+json": {
       "version_major": 2,
       "version_minor": 0,
       "model_id": "28dd5958462747a79934cc1e996e0673"
      }
     },
     "metadata": {}
    },
    {
     "output_type": "stream",
     "name": "stdout",
     "text": [
      "Ep: 14 test accuracy: 33.2\nEp: 14 train accuracy: 33.164\nSCHED LR\n[0.001]\n"
     ]
    },
    {
     "output_type": "display_data",
     "data": {
      "text/plain": "Training. Ep: 15:   0%|          | 0/51200 [00:00<?, ?it/s]",
      "application/vnd.jupyter.widget-view+json": {
       "version_major": 2,
       "version_minor": 0,
       "model_id": "cdfc3f0b060e464097be1cdbdf5dea25"
      }
     },
     "metadata": {}
    },
    {
     "output_type": "stream",
     "name": "stdout",
     "text": [
      "Ep: 15 Training Loss: 1.8165\n"
     ]
    },
    {
     "output_type": "display_data",
     "data": {
      "text/plain": "Eval test. Ep:15:   0%|          | 0/10240 [00:00<?, ?it/s]",
      "application/vnd.jupyter.widget-view+json": {
       "version_major": 2,
       "version_minor": 0,
       "model_id": "6106c0d1bc764a518c4d4bedcb7fb27a"
      }
     },
     "metadata": {}
    },
    {
     "output_type": "display_data",
     "data": {
      "text/plain": "Eval train. Ep:15:   0%|          | 0/51200 [00:00<?, ?it/s]",
      "application/vnd.jupyter.widget-view+json": {
       "version_major": 2,
       "version_minor": 0,
       "model_id": "8b1f0885fc3a40a0bb895cc536d28ddc"
      }
     },
     "metadata": {}
    },
    {
     "output_type": "stream",
     "name": "stdout",
     "text": [
      "Ep: 15 test accuracy: 33.33\nEp: 15 train accuracy: 33.318\nSCHED LR\n[0.001]\n"
     ]
    },
    {
     "output_type": "display_data",
     "data": {
      "text/plain": "Training. Ep: 16:   0%|          | 0/51200 [00:00<?, ?it/s]",
      "application/vnd.jupyter.widget-view+json": {
       "version_major": 2,
       "version_minor": 0,
       "model_id": "9fa2ded92b5048b783ae8b9ff42bf172"
      }
     },
     "metadata": {}
    },
    {
     "output_type": "stream",
     "name": "stdout",
     "text": [
      "Ep: 16 Training Loss: 1.8121\n"
     ]
    },
    {
     "output_type": "display_data",
     "data": {
      "text/plain": "Eval test. Ep:16:   0%|          | 0/10240 [00:00<?, ?it/s]",
      "application/vnd.jupyter.widget-view+json": {
       "version_major": 2,
       "version_minor": 0,
       "model_id": "ae3e33488834407a974447638cc2d4e6"
      }
     },
     "metadata": {}
    },
    {
     "output_type": "display_data",
     "data": {
      "text/plain": "Eval train. Ep:16:   0%|          | 0/51200 [00:00<?, ?it/s]",
      "application/vnd.jupyter.widget-view+json": {
       "version_major": 2,
       "version_minor": 0,
       "model_id": "0025a79145ef44d8a7f37db15d985b48"
      }
     },
     "metadata": {}
    },
    {
     "output_type": "stream",
     "name": "stdout",
     "text": [
      "Ep: 16 test accuracy: 33.57\nEp: 16 train accuracy: 33.528\nSCHED LR\n[0.001]\n"
     ]
    },
    {
     "output_type": "display_data",
     "data": {
      "text/plain": "Training. Ep: 17:   0%|          | 0/51200 [00:00<?, ?it/s]",
      "application/vnd.jupyter.widget-view+json": {
       "version_major": 2,
       "version_minor": 0,
       "model_id": "d57979877e4a46e4bdd1a58039656269"
      }
     },
     "metadata": {}
    },
    {
     "output_type": "stream",
     "name": "stdout",
     "text": [
      "Ep: 17 Training Loss: 1.8080\n"
     ]
    },
    {
     "output_type": "display_data",
     "data": {
      "text/plain": "Eval test. Ep:17:   0%|          | 0/10240 [00:00<?, ?it/s]",
      "application/vnd.jupyter.widget-view+json": {
       "version_major": 2,
       "version_minor": 0,
       "model_id": "8205753bc42146f3b9dc8117fb38a9f5"
      }
     },
     "metadata": {}
    },
    {
     "output_type": "display_data",
     "data": {
      "text/plain": "Eval train. Ep:17:   0%|          | 0/51200 [00:00<?, ?it/s]",
      "application/vnd.jupyter.widget-view+json": {
       "version_major": 2,
       "version_minor": 0,
       "model_id": "31b1731a182a42aeb62871f047c199ef"
      }
     },
     "metadata": {}
    },
    {
     "output_type": "stream",
     "name": "stdout",
     "text": [
      "Ep: 17 test accuracy: 33.64\nEp: 17 train accuracy: 33.718\nSCHED LR\n[0.001]\n"
     ]
    },
    {
     "output_type": "display_data",
     "data": {
      "text/plain": "Training. Ep: 18:   0%|          | 0/51200 [00:00<?, ?it/s]",
      "application/vnd.jupyter.widget-view+json": {
       "version_major": 2,
       "version_minor": 0,
       "model_id": "bcd0a896e1214499bff22621563bed57"
      }
     },
     "metadata": {}
    },
    {
     "output_type": "stream",
     "name": "stdout",
     "text": [
      "Ep: 18 Training Loss: 1.8038\n"
     ]
    },
    {
     "output_type": "display_data",
     "data": {
      "text/plain": "Eval test. Ep:18:   0%|          | 0/10240 [00:00<?, ?it/s]",
      "application/vnd.jupyter.widget-view+json": {
       "version_major": 2,
       "version_minor": 0,
       "model_id": "193e19ef6e94491a8f1a7c76b22c9ad7"
      }
     },
     "metadata": {}
    },
    {
     "output_type": "display_data",
     "data": {
      "text/plain": "Eval train. Ep:18:   0%|          | 0/51200 [00:00<?, ?it/s]",
      "application/vnd.jupyter.widget-view+json": {
       "version_major": 2,
       "version_minor": 0,
       "model_id": "c6b782ea47514869aff0d0c538ede340"
      }
     },
     "metadata": {}
    },
    {
     "output_type": "stream",
     "name": "stdout",
     "text": [
      "Ep: 18 test accuracy: 33.61\nEp: 18 train accuracy: 33.81\nSCHED LR\n[0.001]\n"
     ]
    },
    {
     "output_type": "display_data",
     "data": {
      "text/plain": "Training. Ep: 19:   0%|          | 0/51200 [00:00<?, ?it/s]",
      "application/vnd.jupyter.widget-view+json": {
       "version_major": 2,
       "version_minor": 0,
       "model_id": "bc506ac46aa642faa43b0f386c946a32"
      }
     },
     "metadata": {}
    },
    {
     "output_type": "stream",
     "name": "stdout",
     "text": [
      "Ep: 19 Training Loss: 1.7994\n"
     ]
    },
    {
     "output_type": "display_data",
     "data": {
      "text/plain": "Eval test. Ep:19:   0%|          | 0/10240 [00:00<?, ?it/s]",
      "application/vnd.jupyter.widget-view+json": {
       "version_major": 2,
       "version_minor": 0,
       "model_id": "3097a83d61f845cea4c5adee0f7b0b9b"
      }
     },
     "metadata": {}
    },
    {
     "output_type": "display_data",
     "data": {
      "text/plain": "Eval train. Ep:19:   0%|          | 0/51200 [00:00<?, ?it/s]",
      "application/vnd.jupyter.widget-view+json": {
       "version_major": 2,
       "version_minor": 0,
       "model_id": "5596b2ed8877476f8eb9149333a6a9c4"
      }
     },
     "metadata": {}
    },
    {
     "output_type": "stream",
     "name": "stdout",
     "text": [
      "Ep: 19 test accuracy: 34.0\nEp: 19 train accuracy: 34.038\nSCHED LR\n[0.001]\n"
     ]
    },
    {
     "output_type": "display_data",
     "data": {
      "text/plain": "Training. Ep: 20:   0%|          | 0/51200 [00:00<?, ?it/s]",
      "application/vnd.jupyter.widget-view+json": {
       "version_major": 2,
       "version_minor": 0,
       "model_id": "74f0a9fca12949b4b5658789f0f5a4bf"
      }
     },
     "metadata": {}
    },
    {
     "output_type": "stream",
     "name": "stdout",
     "text": [
      "Ep: 20 Training Loss: 1.7948\n"
     ]
    },
    {
     "output_type": "display_data",
     "data": {
      "text/plain": "Eval test. Ep:20:   0%|          | 0/10240 [00:00<?, ?it/s]",
      "application/vnd.jupyter.widget-view+json": {
       "version_major": 2,
       "version_minor": 0,
       "model_id": "4140d720f9df4dc3964b8c9b202d9f78"
      }
     },
     "metadata": {}
    },
    {
     "output_type": "display_data",
     "data": {
      "text/plain": "Eval train. Ep:20:   0%|          | 0/51200 [00:00<?, ?it/s]",
      "application/vnd.jupyter.widget-view+json": {
       "version_major": 2,
       "version_minor": 0,
       "model_id": "a8e3633f2dc9463fb44d390a4020e179"
      }
     },
     "metadata": {}
    },
    {
     "output_type": "stream",
     "name": "stdout",
     "text": [
      "Ep: 20 test accuracy: 34.31\nEp: 20 train accuracy: 34.326\nSCHED LR\n[0.0001]\n"
     ]
    }
   ],
   "source": [
    "# Don't forget to reset logger\n",
    "writer = initWriter(experiment_name)\n",
    "\n",
    "\n",
    "# set-up optimizer and scheduler\n",
    "optimizer = torch.optim.SGD(net.parameters(), lr=0.1, momentum=0.9)\n",
    "scheduler = torch.optim.lr_scheduler.StepLR(optimizer,\n",
    "                                            step_size=10,\n",
    "                                            gamma=0.1)\n",
    "\n",
    "eval_model_epoch(test_loader = testloader, train_loader = trainloader, writer = writer, model=net, epoch=0, device=device)\n",
    "\n",
    "globaliter = 0\n",
    "for epoch in range(1, n_epochs + 1):\n",
    "    \n",
    "    globaliter, running_loss = train_epoch(trainloader, net, criterion, optimizer, scheduler, epoch, device, 500, globaliter, \"Training. Ep: \" + str(epoch))\n",
    "\n",
    "    epoch_loss = running_loss / (len(trainloader) * trainloader.batch_size)\n",
    "    print('Ep: {} Training Loss: {:.4f}'.format(epoch, epoch_loss))\n",
    "    writer.add_scalar('Train.Epoch/Loss', epoch_loss, epoch)\n",
    "\n",
    "    lr = scheduler.get_last_lr()[0]\n",
    "    writer.add_scalar('Train.Epoch/LearningRate', lr, epoch)\n",
    "    \n",
    "    eval_model_epoch(test_loader = testloader, train_loader = trainloader, writer = writer, model=net, epoch=epoch, device=device)\n",
    "    # adjust_learning_rate\n",
    "    if scheduler is not None:\n",
    "        scheduler.step()\n",
    "        print(\"SCHED LR\")\n",
    "        print(scheduler.get_last_lr())"
   ]
  },
  {
   "cell_type": "markdown",
   "metadata": {
    "id": "VV55Y2Dna-Pk"
   },
   "source": [
    "##  Evaluate the network on the test data\n",
    "\n",
    "\n",
    "\n"
   ]
  },
  {
   "cell_type": "code",
   "execution_count": 350,
   "metadata": {
    "colab": {
     "base_uri": "https://localhost:8080/",
     "height": 199
    },
    "id": "AKsfrBhda-Pl",
    "outputId": "07e0bdac-8700-48c0-daa3-e41ccec122f1"
   },
   "outputs": [
    {
     "output_type": "stream",
     "name": "stdout",
     "text": [
      "* Ground Truth:\n\n     cat       ship      ship      plane    \n"
     ]
    },
    {
     "output_type": "display_data",
     "data": {
      "text/plain": "<Figure size 432x288 with 1 Axes>",
      "image/svg+xml": "<?xml version=\"1.0\" encoding=\"utf-8\" standalone=\"no\"?>\r\n<!DOCTYPE svg PUBLIC \"-//W3C//DTD SVG 1.1//EN\"\r\n  \"http://www.w3.org/Graphics/SVG/1.1/DTD/svg11.dtd\">\r\n<!-- Created with matplotlib (https://matplotlib.org/) -->\r\n<svg height=\"263.086731pt\" version=\"1.1\" viewBox=\"0 0 90.645208 263.086731\" width=\"90.645208pt\" xmlns=\"http://www.w3.org/2000/svg\" xmlns:xlink=\"http://www.w3.org/1999/xlink\">\r\n <metadata>\r\n  <rdf:RDF xmlns:cc=\"http://creativecommons.org/ns#\" xmlns:dc=\"http://purl.org/dc/elements/1.1/\" xmlns:rdf=\"http://www.w3.org/1999/02/22-rdf-syntax-ns#\">\r\n   <cc:Work>\r\n    <dc:type rdf:resource=\"http://purl.org/dc/dcmitype/StillImage\"/>\r\n    <dc:date>2020-12-30T22:57:38.588436</dc:date>\r\n    <dc:format>image/svg+xml</dc:format>\r\n    <dc:creator>\r\n     <cc:Agent>\r\n      <dc:title>Matplotlib v3.3.2, https://matplotlib.org/</dc:title>\r\n     </cc:Agent>\r\n    </dc:creator>\r\n   </cc:Work>\r\n  </rdf:RDF>\r\n </metadata>\r\n <defs>\r\n  <style type=\"text/css\">*{stroke-linecap:butt;stroke-linejoin:round;}</style>\r\n </defs>\r\n <g id=\"figure_1\">\r\n  <g id=\"patch_1\">\r\n   <path d=\"M 0 263.086731 \r\nL 90.645208 263.086731 \r\nL 90.645208 0 \r\nL 0 0 \r\nz\r\n\" style=\"fill:none;\"/>\r\n  </g>\r\n  <g id=\"axes_1\">\r\n   <g id=\"patch_2\">\r\n    <path d=\"M 60.01 231.466106 \r\nL 66.853391 231.466106 \r\nL 66.853391 14.026106 \r\nL 60.01 14.026106 \r\nz\r\n\" style=\"fill:#ffffff;\"/>\r\n   </g>\r\n   <g clip-path=\"url(#p4c22871f48)\">\r\n    <image height=\"218\" id=\"image6bf694c511\" transform=\"scale(1 -1)translate(0 -218)\" width=\"7\" x=\"60.01\" xlink:href=\"data:image/png;base64,\r\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\" y=\"-13.466106\"/>\r\n   </g>\r\n   <g id=\"matplotlib.axis_1\">\r\n    <g id=\"xtick_1\">\r\n     <g id=\"line2d_1\">\r\n      <defs>\r\n       <path d=\"M 0 0 \r\nL 0 3.5 \r\n\" id=\"m8cdc555f9f\" style=\"stroke:#000000;stroke-width:0.8;\"/>\r\n      </defs>\r\n      <g>\r\n       <use style=\"stroke:#000000;stroke-width:0.8;\" x=\"60.022488\" xlink:href=\"#m8cdc555f9f\" y=\"231.466106\"/>\r\n      </g>\r\n     </g>\r\n     <g id=\"text_1\">\r\n      <!-- 0 -->\r\n      <g transform=\"translate(54.296238 252.143293)scale(0.18 -0.18)\">\r\n       <defs>\r\n        <path d=\"M 31.78125 3.421875 \r\nQ 39.265625 3.421875 42.96875 11.625 \r\nQ 46.6875 19.828125 46.6875 36.375 \r\nQ 46.6875 52.984375 42.96875 61.1875 \r\nQ 39.265625 69.390625 31.78125 69.390625 \r\nQ 24.3125 69.390625 20.59375 61.1875 \r\nQ 16.890625 52.984375 16.890625 36.375 \r\nQ 16.890625 19.828125 20.59375 11.625 \r\nQ 24.3125 3.421875 31.78125 3.421875 \r\nz\r\nM 31.78125 -1.421875 \r\nQ 19.921875 -1.421875 13.25 8.53125 \r\nQ 6.59375 18.5 6.59375 36.375 \r\nQ 6.59375 54.296875 13.25 64.25 \r\nQ 19.921875 74.21875 31.78125 74.21875 \r\nQ 43.703125 74.21875 50.34375 64.25 \r\nQ 56.984375 54.296875 56.984375 36.375 \r\nQ 56.984375 18.5 50.34375 8.53125 \r\nQ 43.703125 -1.421875 31.78125 -1.421875 \r\nz\r\n\" id=\"DejaVuSerif-48\"/>\r\n       </defs>\r\n       <use xlink:href=\"#DejaVuSerif-48\"/>\r\n      </g>\r\n     </g>\r\n    </g>\r\n    <g id=\"xtick_2\">\r\n     <g id=\"line2d_2\">\r\n      <g>\r\n       <use style=\"stroke:#000000;stroke-width:0.8;\" x=\"66.266458\" xlink:href=\"#m8cdc555f9f\" y=\"231.466106\"/>\r\n      </g>\r\n     </g>\r\n     <g id=\"text_2\">\r\n      <!-- 250 -->\r\n      <g transform=\"translate(49.087708 252.143293)scale(0.18 -0.18)\">\r\n       <defs>\r\n        <path d=\"M 12.796875 55.515625 \r\nL 7.328125 55.515625 \r\nL 7.328125 68.5 \r\nQ 12.546875 71.296875 17.84375 72.75 \r\nQ 23.140625 74.21875 28.21875 74.21875 \r\nQ 39.59375 74.21875 46.1875 68.703125 \r\nQ 52.78125 63.1875 52.78125 53.71875 \r\nQ 52.78125 43.015625 37.84375 28.125 \r\nQ 36.671875 27 36.078125 26.421875 \r\nL 17.671875 8.015625 \r\nL 48.09375 8.015625 \r\nL 48.09375 17 \r\nL 53.8125 17 \r\nL 53.8125 0 \r\nL 6.78125 0 \r\nL 6.78125 5.328125 \r\nL 28.90625 27.390625 \r\nQ 36.234375 34.71875 39.359375 40.84375 \r\nQ 42.484375 46.96875 42.484375 53.71875 \r\nQ 42.484375 61.078125 38.640625 65.234375 \r\nQ 34.8125 69.390625 28.078125 69.390625 \r\nQ 21.09375 69.390625 17.28125 65.921875 \r\nQ 13.484375 62.453125 12.796875 55.515625 \r\nz\r\n\" id=\"DejaVuSerif-50\"/>\r\n        <path d=\"M 50.296875 72.90625 \r\nL 50.296875 64.890625 \r\nL 16.890625 64.890625 \r\nL 16.890625 44 \r\nQ 19.4375 45.75 22.828125 46.625 \r\nQ 26.21875 47.515625 30.421875 47.515625 \r\nQ 42.234375 47.515625 49.0625 40.96875 \r\nQ 55.90625 34.421875 55.90625 23.09375 \r\nQ 55.90625 11.53125 49 5.046875 \r\nQ 42.09375 -1.421875 29.59375 -1.421875 \r\nQ 24.5625 -1.421875 19.28125 -0.1875 \r\nQ 14.015625 1.03125 8.5 3.515625 \r\nL 8.5 17.671875 \r\nL 14.015625 17.671875 \r\nQ 14.453125 10.75 18.421875 7.078125 \r\nQ 22.40625 3.421875 29.59375 3.421875 \r\nQ 37.3125 3.421875 41.453125 8.5 \r\nQ 45.609375 13.578125 45.609375 23.09375 \r\nQ 45.609375 32.5625 41.484375 37.609375 \r\nQ 37.359375 42.671875 29.59375 42.671875 \r\nQ 25.203125 42.671875 21.84375 41.109375 \r\nQ 18.5 39.546875 15.921875 36.28125 \r\nL 11.71875 36.28125 \r\nL 11.71875 72.90625 \r\nz\r\n\" id=\"DejaVuSerif-53\"/>\r\n       </defs>\r\n       <use xlink:href=\"#DejaVuSerif-50\"/>\r\n       <use x=\"63.623047\" xlink:href=\"#DejaVuSerif-53\"/>\r\n       <use x=\"127.246094\" xlink:href=\"#DejaVuSerif-48\"/>\r\n      </g>\r\n     </g>\r\n    </g>\r\n   </g>\r\n   <g id=\"matplotlib.axis_2\">\r\n    <g id=\"ytick_1\">\r\n     <g id=\"line2d_3\">\r\n      <defs>\r\n       <path d=\"M 0 0 \r\nL -3.5 0 \r\n\" id=\"m0ef1698847\" style=\"stroke:#000000;stroke-width:0.8;\"/>\r\n      </defs>\r\n      <g>\r\n       <use style=\"stroke:#000000;stroke-width:0.8;\" x=\"60.01\" xlink:href=\"#m0ef1698847\" y=\"14.038594\"/>\r\n      </g>\r\n     </g>\r\n     <g id=\"text_3\">\r\n      <!-- 0 -->\r\n      <g transform=\"translate(41.5575 20.877187)scale(0.18 -0.18)\">\r\n       <use xlink:href=\"#DejaVuSerif-48\"/>\r\n      </g>\r\n     </g>\r\n    </g>\r\n    <g id=\"ytick_2\">\r\n     <g id=\"line2d_4\">\r\n      <g>\r\n       <use style=\"stroke:#000000;stroke-width:0.8;\" x=\"60.01\" xlink:href=\"#m0ef1698847\" y=\"63.990351\"/>\r\n      </g>\r\n     </g>\r\n     <g id=\"text_4\">\r\n      <!-- 2000 -->\r\n      <g transform=\"translate(7.2 70.828945)scale(0.18 -0.18)\">\r\n       <use xlink:href=\"#DejaVuSerif-50\"/>\r\n       <use x=\"63.623047\" xlink:href=\"#DejaVuSerif-48\"/>\r\n       <use x=\"127.246094\" xlink:href=\"#DejaVuSerif-48\"/>\r\n       <use x=\"190.869141\" xlink:href=\"#DejaVuSerif-48\"/>\r\n      </g>\r\n     </g>\r\n    </g>\r\n    <g id=\"ytick_3\">\r\n     <g id=\"line2d_5\">\r\n      <g>\r\n       <use style=\"stroke:#000000;stroke-width:0.8;\" x=\"60.01\" xlink:href=\"#m0ef1698847\" y=\"113.942109\"/>\r\n      </g>\r\n     </g>\r\n     <g id=\"text_5\">\r\n      <!-- 4000 -->\r\n      <g transform=\"translate(7.2 120.780702)scale(0.18 -0.18)\">\r\n       <defs>\r\n        <path d=\"M 34.90625 24.703125 \r\nL 34.90625 63.484375 \r\nL 10.015625 24.703125 \r\nz\r\nM 56.390625 0 \r\nL 23.1875 0 \r\nL 23.1875 5.171875 \r\nL 34.90625 5.171875 \r\nL 34.90625 19.484375 \r\nL 3.078125 19.484375 \r\nL 3.078125 24.8125 \r\nL 35.015625 74.21875 \r\nL 44.671875 74.21875 \r\nL 44.671875 24.703125 \r\nL 58.59375 24.703125 \r\nL 58.59375 19.484375 \r\nL 44.671875 19.484375 \r\nL 44.671875 5.171875 \r\nL 56.390625 5.171875 \r\nz\r\n\" id=\"DejaVuSerif-52\"/>\r\n       </defs>\r\n       <use xlink:href=\"#DejaVuSerif-52\"/>\r\n       <use x=\"63.623047\" xlink:href=\"#DejaVuSerif-48\"/>\r\n       <use x=\"127.246094\" xlink:href=\"#DejaVuSerif-48\"/>\r\n       <use x=\"190.869141\" xlink:href=\"#DejaVuSerif-48\"/>\r\n      </g>\r\n     </g>\r\n    </g>\r\n    <g id=\"ytick_4\">\r\n     <g id=\"line2d_6\">\r\n      <g>\r\n       <use style=\"stroke:#000000;stroke-width:0.8;\" x=\"60.01\" xlink:href=\"#m0ef1698847\" y=\"163.893866\"/>\r\n      </g>\r\n     </g>\r\n     <g id=\"text_6\">\r\n      <!-- 6000 -->\r\n      <g transform=\"translate(7.2 170.73246)scale(0.18 -0.18)\">\r\n       <defs>\r\n        <path d=\"M 32.71875 3.421875 \r\nQ 39.59375 3.421875 43.296875 8.46875 \r\nQ 47.015625 13.53125 47.015625 23 \r\nQ 47.015625 32.46875 43.296875 37.515625 \r\nQ 39.59375 42.578125 32.71875 42.578125 \r\nQ 25.734375 42.578125 22.0625 37.6875 \r\nQ 18.40625 32.8125 18.40625 23.578125 \r\nQ 18.40625 13.875 22.109375 8.640625 \r\nQ 25.828125 3.421875 32.71875 3.421875 \r\nz\r\nM 16.796875 40.140625 \r\nQ 20.125 43.796875 24.3125 45.59375 \r\nQ 28.515625 47.40625 33.796875 47.40625 \r\nQ 44.671875 47.40625 51 40.859375 \r\nQ 57.328125 34.328125 57.328125 23 \r\nQ 57.328125 11.921875 50.515625 5.25 \r\nQ 43.703125 -1.421875 32.328125 -1.421875 \r\nQ 19.96875 -1.421875 13.328125 7.78125 \r\nQ 6.6875 17 6.6875 34.078125 \r\nQ 6.6875 53.21875 14.546875 63.71875 \r\nQ 22.40625 74.21875 36.71875 74.21875 \r\nQ 40.578125 74.21875 44.828125 73.484375 \r\nQ 49.078125 72.75 53.515625 71.296875 \r\nL 53.515625 59.28125 \r\nL 48 59.28125 \r\nQ 47.40625 64.203125 44.234375 66.796875 \r\nQ 41.0625 69.390625 35.6875 69.390625 \r\nQ 26.21875 69.390625 21.578125 62.203125 \r\nQ 16.9375 55.03125 16.796875 40.140625 \r\nz\r\n\" id=\"DejaVuSerif-54\"/>\r\n       </defs>\r\n       <use xlink:href=\"#DejaVuSerif-54\"/>\r\n       <use x=\"63.623047\" xlink:href=\"#DejaVuSerif-48\"/>\r\n       <use x=\"127.246094\" xlink:href=\"#DejaVuSerif-48\"/>\r\n       <use x=\"190.869141\" xlink:href=\"#DejaVuSerif-48\"/>\r\n      </g>\r\n     </g>\r\n    </g>\r\n    <g id=\"ytick_5\">\r\n     <g id=\"line2d_7\">\r\n      <g>\r\n       <use style=\"stroke:#000000;stroke-width:0.8;\" x=\"60.01\" xlink:href=\"#m0ef1698847\" y=\"213.845623\"/>\r\n      </g>\r\n     </g>\r\n     <g id=\"text_7\">\r\n      <!-- 8000 -->\r\n      <g transform=\"translate(7.2 220.684217)scale(0.18 -0.18)\">\r\n       <defs>\r\n        <path d=\"M 46.578125 19.921875 \r\nQ 46.578125 27.734375 42.6875 32.046875 \r\nQ 38.8125 36.375 31.78125 36.375 \r\nQ 24.75 36.375 20.875 32.046875 \r\nQ 17 27.734375 17 19.921875 \r\nQ 17 12.0625 20.875 7.734375 \r\nQ 24.75 3.421875 31.78125 3.421875 \r\nQ 38.8125 3.421875 42.6875 7.734375 \r\nQ 46.578125 12.0625 46.578125 19.921875 \r\nz\r\nM 44.578125 55.328125 \r\nQ 44.578125 61.96875 41.203125 65.671875 \r\nQ 37.84375 69.390625 31.78125 69.390625 \r\nQ 25.78125 69.390625 22.390625 65.671875 \r\nQ 19 61.96875 19 55.328125 \r\nQ 19 48.640625 22.390625 44.921875 \r\nQ 25.78125 41.21875 31.78125 41.21875 \r\nQ 37.84375 41.21875 41.203125 44.921875 \r\nQ 44.578125 48.640625 44.578125 55.328125 \r\nz\r\nM 39.3125 38.8125 \r\nQ 47.609375 37.703125 52.25 32.6875 \r\nQ 56.890625 27.6875 56.890625 19.921875 \r\nQ 56.890625 9.671875 50.390625 4.125 \r\nQ 43.890625 -1.421875 31.78125 -1.421875 \r\nQ 19.734375 -1.421875 13.203125 4.125 \r\nQ 6.6875 9.671875 6.6875 19.921875 \r\nQ 6.6875 27.6875 11.328125 32.6875 \r\nQ 15.96875 37.703125 24.3125 38.8125 \r\nQ 16.9375 40.140625 13 44.40625 \r\nQ 9.078125 48.6875 9.078125 55.328125 \r\nQ 9.078125 64.109375 15.125 69.15625 \r\nQ 21.1875 74.21875 31.78125 74.21875 \r\nQ 42.390625 74.21875 48.4375 69.15625 \r\nQ 54.5 64.109375 54.5 55.328125 \r\nQ 54.5 48.6875 50.5625 44.40625 \r\nQ 46.625 40.140625 39.3125 38.8125 \r\nz\r\n\" id=\"DejaVuSerif-56\"/>\r\n       </defs>\r\n       <use xlink:href=\"#DejaVuSerif-56\"/>\r\n       <use x=\"63.623047\" xlink:href=\"#DejaVuSerif-48\"/>\r\n       <use x=\"127.246094\" xlink:href=\"#DejaVuSerif-48\"/>\r\n       <use x=\"190.869141\" xlink:href=\"#DejaVuSerif-48\"/>\r\n      </g>\r\n     </g>\r\n    </g>\r\n   </g>\r\n   <g id=\"patch_3\">\r\n    <path d=\"M 60.01 231.466106 \r\nL 60.01 14.026106 \r\n\" style=\"fill:none;stroke:#000000;stroke-linecap:square;stroke-linejoin:miter;stroke-width:0.8;\"/>\r\n   </g>\r\n   <g id=\"patch_4\">\r\n    <path d=\"M 66.853391 231.466106 \r\nL 66.853391 14.026106 \r\n\" style=\"fill:none;stroke:#000000;stroke-linecap:square;stroke-linejoin:miter;stroke-width:0.8;\"/>\r\n   </g>\r\n   <g id=\"patch_5\">\r\n    <path d=\"M 60.01 231.466106 \r\nL 66.853391 231.466106 \r\n\" style=\"fill:none;stroke:#000000;stroke-linecap:square;stroke-linejoin:miter;stroke-width:0.8;\"/>\r\n   </g>\r\n   <g id=\"patch_6\">\r\n    <path d=\"M 60.01 14.026106 \r\nL 66.853391 14.026106 \r\n\" style=\"fill:none;stroke:#000000;stroke-linecap:square;stroke-linejoin:miter;stroke-width:0.8;\"/>\r\n   </g>\r\n  </g>\r\n </g>\r\n <defs>\r\n  <clipPath id=\"p4c22871f48\">\r\n   <rect height=\"217.44\" width=\"6.843391\" x=\"60.01\" y=\"14.026106\"/>\r\n  </clipPath>\r\n </defs>\r\n</svg>\r\n",
      "image/png": "[encoded data removed]"
     },
     "metadata": {
      "needs_background": "light"
     }
    }
   ],
   "source": [
    "dataiter = iter(testloader)\n",
    "images, labels = dataiter.next()\n",
    "\n",
    "# print images\n",
    "imshow(torchvision.utils.make_grid(images))\n",
    "print('* Ground Truth:')\n",
    "print()\n",
    "print('     ' + ' '.join('{:9}'.format(classes[labels[j]]) for j in range(4)))"
   ]
  },
  {
   "cell_type": "markdown",
   "metadata": {
    "id": "s7fTX4aga-Pn"
   },
   "source": [
    "Okay, now let us see what the neural network thinks these examples above are:\n",
    "\n"
   ]
  },
  {
   "cell_type": "code",
   "execution_count": 351,
   "metadata": {
    "colab": {
     "base_uri": "https://localhost:8080/"
    },
    "id": "gTT2vad2a-Po",
    "outputId": "a016599d-7c0c-4f33-e947-942baeb874a3"
   },
   "outputs": [
    {
     "output_type": "error",
     "ename": "RuntimeError",
     "evalue": "Input type (torch.FloatTensor) and weight type (torch.cuda.FloatTensor) should be the same",
     "traceback": [
      "\u001b[1;31m---------------------------------------------------------------------------\u001b[0m",
      "\u001b[1;31mRuntimeError\u001b[0m                              Traceback (most recent call last)",
      "\u001b[1;32m<ipython-input-351-7fb9056974b2>\u001b[0m in \u001b[0;36m<module>\u001b[1;34m\u001b[0m\n\u001b[1;32m----> 1\u001b[1;33m \u001b[0moutputs\u001b[0m \u001b[1;33m=\u001b[0m \u001b[0mnet\u001b[0m\u001b[1;33m(\u001b[0m\u001b[0mimages\u001b[0m\u001b[1;33m)\u001b[0m\u001b[1;33m\u001b[0m\u001b[1;33m\u001b[0m\u001b[0m\n\u001b[0m\u001b[0;32m      2\u001b[0m \u001b[0m_\u001b[0m\u001b[1;33m,\u001b[0m \u001b[0mpredicted\u001b[0m \u001b[1;33m=\u001b[0m \u001b[0mtorch\u001b[0m\u001b[1;33m.\u001b[0m\u001b[0mmax\u001b[0m\u001b[1;33m(\u001b[0m\u001b[0moutputs\u001b[0m\u001b[1;33m,\u001b[0m \u001b[1;36m1\u001b[0m\u001b[1;33m)\u001b[0m\u001b[1;33m\u001b[0m\u001b[1;33m\u001b[0m\u001b[0m\n\u001b[0;32m      3\u001b[0m \u001b[1;33m\u001b[0m\u001b[0m\n\u001b[0;32m      4\u001b[0m \u001b[0mprint\u001b[0m\u001b[1;33m(\u001b[0m\u001b[1;34m'* Predicted:'\u001b[0m\u001b[1;33m)\u001b[0m\u001b[1;33m\u001b[0m\u001b[1;33m\u001b[0m\u001b[0m\n\u001b[0;32m      5\u001b[0m \u001b[0mprint\u001b[0m\u001b[1;33m(\u001b[0m\u001b[1;33m)\u001b[0m\u001b[1;33m\u001b[0m\u001b[1;33m\u001b[0m\u001b[0m\n",
      "\u001b[1;32m~\\Miniconda3\\envs\\py37\\lib\\site-packages\\torch\\nn\\modules\\module.py\u001b[0m in \u001b[0;36m_call_impl\u001b[1;34m(self, *input, **kwargs)\u001b[0m\n\u001b[0;32m    725\u001b[0m             \u001b[0mresult\u001b[0m \u001b[1;33m=\u001b[0m \u001b[0mself\u001b[0m\u001b[1;33m.\u001b[0m\u001b[0m_slow_forward\u001b[0m\u001b[1;33m(\u001b[0m\u001b[1;33m*\u001b[0m\u001b[0minput\u001b[0m\u001b[1;33m,\u001b[0m \u001b[1;33m**\u001b[0m\u001b[0mkwargs\u001b[0m\u001b[1;33m)\u001b[0m\u001b[1;33m\u001b[0m\u001b[1;33m\u001b[0m\u001b[0m\n\u001b[0;32m    726\u001b[0m         \u001b[1;32melse\u001b[0m\u001b[1;33m:\u001b[0m\u001b[1;33m\u001b[0m\u001b[1;33m\u001b[0m\u001b[0m\n\u001b[1;32m--> 727\u001b[1;33m             \u001b[0mresult\u001b[0m \u001b[1;33m=\u001b[0m \u001b[0mself\u001b[0m\u001b[1;33m.\u001b[0m\u001b[0mforward\u001b[0m\u001b[1;33m(\u001b[0m\u001b[1;33m*\u001b[0m\u001b[0minput\u001b[0m\u001b[1;33m,\u001b[0m \u001b[1;33m**\u001b[0m\u001b[0mkwargs\u001b[0m\u001b[1;33m)\u001b[0m\u001b[1;33m\u001b[0m\u001b[1;33m\u001b[0m\u001b[0m\n\u001b[0m\u001b[0;32m    728\u001b[0m         for hook in itertools.chain(\n\u001b[0;32m    729\u001b[0m                 \u001b[0m_global_forward_hooks\u001b[0m\u001b[1;33m.\u001b[0m\u001b[0mvalues\u001b[0m\u001b[1;33m(\u001b[0m\u001b[1;33m)\u001b[0m\u001b[1;33m,\u001b[0m\u001b[1;33m\u001b[0m\u001b[1;33m\u001b[0m\u001b[0m\n",
      "\u001b[1;32m<ipython-input-343-d0474c5f50a1>\u001b[0m in \u001b[0;36mforward\u001b[1;34m(self, x)\u001b[0m\n\u001b[0;32m     11\u001b[0m \u001b[1;33m\u001b[0m\u001b[0m\n\u001b[0;32m     12\u001b[0m     \u001b[1;32mdef\u001b[0m \u001b[0mforward\u001b[0m\u001b[1;33m(\u001b[0m\u001b[0mself\u001b[0m\u001b[1;33m,\u001b[0m \u001b[0mx\u001b[0m\u001b[1;33m)\u001b[0m\u001b[1;33m:\u001b[0m\u001b[1;33m\u001b[0m\u001b[1;33m\u001b[0m\u001b[0m\n\u001b[1;32m---> 13\u001b[1;33m         \u001b[0mx\u001b[0m \u001b[1;33m=\u001b[0m \u001b[0mself\u001b[0m\u001b[1;33m.\u001b[0m\u001b[0mpool1\u001b[0m\u001b[1;33m(\u001b[0m\u001b[0mF\u001b[0m\u001b[1;33m.\u001b[0m\u001b[0mrelu\u001b[0m\u001b[1;33m(\u001b[0m\u001b[0mself\u001b[0m\u001b[1;33m.\u001b[0m\u001b[0mconv1\u001b[0m\u001b[1;33m(\u001b[0m\u001b[0mx\u001b[0m\u001b[1;33m)\u001b[0m\u001b[1;33m)\u001b[0m\u001b[1;33m)\u001b[0m\u001b[1;33m\u001b[0m\u001b[1;33m\u001b[0m\u001b[0m\n\u001b[0m\u001b[0;32m     14\u001b[0m         \u001b[0mx\u001b[0m \u001b[1;33m=\u001b[0m \u001b[0mself\u001b[0m\u001b[1;33m.\u001b[0m\u001b[0mpool2\u001b[0m\u001b[1;33m(\u001b[0m\u001b[0mF\u001b[0m\u001b[1;33m.\u001b[0m\u001b[0mrelu\u001b[0m\u001b[1;33m(\u001b[0m\u001b[0mself\u001b[0m\u001b[1;33m.\u001b[0m\u001b[0mconv2\u001b[0m\u001b[1;33m(\u001b[0m\u001b[0mx\u001b[0m\u001b[1;33m)\u001b[0m\u001b[1;33m)\u001b[0m\u001b[1;33m)\u001b[0m\u001b[1;33m\u001b[0m\u001b[1;33m\u001b[0m\u001b[0m\n\u001b[0;32m     15\u001b[0m         \u001b[0mx\u001b[0m \u001b[1;33m=\u001b[0m \u001b[0mx\u001b[0m\u001b[1;33m.\u001b[0m\u001b[0mview\u001b[0m\u001b[1;33m(\u001b[0m\u001b[1;33m-\u001b[0m\u001b[1;36m1\u001b[0m\u001b[1;33m,\u001b[0m \u001b[1;36m16\u001b[0m \u001b[1;33m*\u001b[0m \u001b[1;36m5\u001b[0m \u001b[1;33m*\u001b[0m \u001b[1;36m5\u001b[0m\u001b[1;33m)\u001b[0m\u001b[1;33m\u001b[0m\u001b[1;33m\u001b[0m\u001b[0m\n",
      "\u001b[1;32m~\\Miniconda3\\envs\\py37\\lib\\site-packages\\torch\\nn\\modules\\module.py\u001b[0m in \u001b[0;36m_call_impl\u001b[1;34m(self, *input, **kwargs)\u001b[0m\n\u001b[0;32m    725\u001b[0m             \u001b[0mresult\u001b[0m \u001b[1;33m=\u001b[0m \u001b[0mself\u001b[0m\u001b[1;33m.\u001b[0m\u001b[0m_slow_forward\u001b[0m\u001b[1;33m(\u001b[0m\u001b[1;33m*\u001b[0m\u001b[0minput\u001b[0m\u001b[1;33m,\u001b[0m \u001b[1;33m**\u001b[0m\u001b[0mkwargs\u001b[0m\u001b[1;33m)\u001b[0m\u001b[1;33m\u001b[0m\u001b[1;33m\u001b[0m\u001b[0m\n\u001b[0;32m    726\u001b[0m         \u001b[1;32melse\u001b[0m\u001b[1;33m:\u001b[0m\u001b[1;33m\u001b[0m\u001b[1;33m\u001b[0m\u001b[0m\n\u001b[1;32m--> 727\u001b[1;33m             \u001b[0mresult\u001b[0m \u001b[1;33m=\u001b[0m \u001b[0mself\u001b[0m\u001b[1;33m.\u001b[0m\u001b[0mforward\u001b[0m\u001b[1;33m(\u001b[0m\u001b[1;33m*\u001b[0m\u001b[0minput\u001b[0m\u001b[1;33m,\u001b[0m \u001b[1;33m**\u001b[0m\u001b[0mkwargs\u001b[0m\u001b[1;33m)\u001b[0m\u001b[1;33m\u001b[0m\u001b[1;33m\u001b[0m\u001b[0m\n\u001b[0m\u001b[0;32m    728\u001b[0m         for hook in itertools.chain(\n\u001b[0;32m    729\u001b[0m                 \u001b[0m_global_forward_hooks\u001b[0m\u001b[1;33m.\u001b[0m\u001b[0mvalues\u001b[0m\u001b[1;33m(\u001b[0m\u001b[1;33m)\u001b[0m\u001b[1;33m,\u001b[0m\u001b[1;33m\u001b[0m\u001b[1;33m\u001b[0m\u001b[0m\n",
      "\u001b[1;32m~\\Miniconda3\\envs\\py37\\lib\\site-packages\\torch\\nn\\modules\\conv.py\u001b[0m in \u001b[0;36mforward\u001b[1;34m(self, input)\u001b[0m\n\u001b[0;32m    421\u001b[0m \u001b[1;33m\u001b[0m\u001b[0m\n\u001b[0;32m    422\u001b[0m     \u001b[1;32mdef\u001b[0m \u001b[0mforward\u001b[0m\u001b[1;33m(\u001b[0m\u001b[0mself\u001b[0m\u001b[1;33m,\u001b[0m \u001b[0minput\u001b[0m\u001b[1;33m:\u001b[0m \u001b[0mTensor\u001b[0m\u001b[1;33m)\u001b[0m \u001b[1;33m->\u001b[0m \u001b[0mTensor\u001b[0m\u001b[1;33m:\u001b[0m\u001b[1;33m\u001b[0m\u001b[1;33m\u001b[0m\u001b[0m\n\u001b[1;32m--> 423\u001b[1;33m         \u001b[1;32mreturn\u001b[0m \u001b[0mself\u001b[0m\u001b[1;33m.\u001b[0m\u001b[0m_conv_forward\u001b[0m\u001b[1;33m(\u001b[0m\u001b[0minput\u001b[0m\u001b[1;33m,\u001b[0m \u001b[0mself\u001b[0m\u001b[1;33m.\u001b[0m\u001b[0mweight\u001b[0m\u001b[1;33m)\u001b[0m\u001b[1;33m\u001b[0m\u001b[1;33m\u001b[0m\u001b[0m\n\u001b[0m\u001b[0;32m    424\u001b[0m \u001b[1;33m\u001b[0m\u001b[0m\n\u001b[0;32m    425\u001b[0m \u001b[1;32mclass\u001b[0m \u001b[0mConv3d\u001b[0m\u001b[1;33m(\u001b[0m\u001b[0m_ConvNd\u001b[0m\u001b[1;33m)\u001b[0m\u001b[1;33m:\u001b[0m\u001b[1;33m\u001b[0m\u001b[1;33m\u001b[0m\u001b[0m\n",
      "\u001b[1;32m~\\Miniconda3\\envs\\py37\\lib\\site-packages\\torch\\nn\\modules\\conv.py\u001b[0m in \u001b[0;36m_conv_forward\u001b[1;34m(self, input, weight)\u001b[0m\n\u001b[0;32m    418\u001b[0m                             _pair(0), self.dilation, self.groups)\n\u001b[0;32m    419\u001b[0m         return F.conv2d(input, weight, self.bias, self.stride,\n\u001b[1;32m--> 420\u001b[1;33m                         self.padding, self.dilation, self.groups)\n\u001b[0m\u001b[0;32m    421\u001b[0m \u001b[1;33m\u001b[0m\u001b[0m\n\u001b[0;32m    422\u001b[0m     \u001b[1;32mdef\u001b[0m \u001b[0mforward\u001b[0m\u001b[1;33m(\u001b[0m\u001b[0mself\u001b[0m\u001b[1;33m,\u001b[0m \u001b[0minput\u001b[0m\u001b[1;33m:\u001b[0m \u001b[0mTensor\u001b[0m\u001b[1;33m)\u001b[0m \u001b[1;33m->\u001b[0m \u001b[0mTensor\u001b[0m\u001b[1;33m:\u001b[0m\u001b[1;33m\u001b[0m\u001b[1;33m\u001b[0m\u001b[0m\n",
      "\u001b[1;31mRuntimeError\u001b[0m: Input type (torch.FloatTensor) and weight type (torch.cuda.FloatTensor) should be the same"
     ]
    }
   ],
   "source": [
    "outputs = net(images)\n",
    "_, predicted = torch.max(outputs, 1)\n",
    "\n",
    "print('* Predicted:')\n",
    "print()\n",
    "print('     ' + ' '.join('{:9}'.format(classes[predicted[j]]) for j in range(4)))\n"
   ]
  },
  {
   "cell_type": "markdown",
   "metadata": {
    "id": "TaMhHN_ua-Pu"
   },
   "source": [
    "\n",
    "\n",
    "Let us look at how the network performs on the whole dataset.\n",
    "\n"
   ]
  },
  {
   "cell_type": "markdown",
   "metadata": {
    "id": "74bbzYIla-Px"
   },
   "source": [
    "the classes that performed well, and the classes that did\n",
    "not perform well:\n",
    "\n"
   ]
  },
  {
   "cell_type": "code",
   "execution_count": 117,
   "metadata": {
    "colab": {
     "base_uri": "https://localhost:8080/"
    },
    "id": "C5ZuNoqla-Px",
    "outputId": "cb249708-bedc-4d4e-9f24-9e553a897df0"
   },
   "outputs": [
    {
     "output_type": "stream",
     "name": "stdout",
     "text": [
      "Accuracy of plane : 43.75 %\nAccuracy of car   : 69.23076923076923 %\nAccuracy of bird  : 53.84615384615385 %\nAccuracy of cat   : 36.36363636363637 %\nAccuracy of deer  : 15.384615384615385 %\nAccuracy of dog   : 33.333333333333336 %\nAccuracy of frog  : 61.111111111111114 %\nAccuracy of horse : 66.66666666666667 %\nAccuracy of ship  : 61.904761904761905 %\nAccuracy of truck : 64.70588235294117 %\n"
     ]
    }
   ],
   "source": [
    "class_correct = list(0. for i in range(10))\n",
    "class_total = list(0. for i in range(10))\n",
    "with torch.no_grad():\n",
    "    for data in testloader:\n",
    "        images, labels = data[0].to(device), data[1].to(device)\n",
    "        outputs = net(images)\n",
    "        _, predicted = torch.max(outputs, 1)\n",
    "        c = (predicted == labels).squeeze()\n",
    "        for i in range(4):\n",
    "            label = labels[i]\n",
    "            class_correct[label] += c[i].item()\n",
    "            class_total[label] += 1\n",
    "\n",
    "\n",
    "for i in range(10):\n",
    "    print('Accuracy of {:5} : {} %'.format(\n",
    "        classes[i], 100 * class_correct[i] / class_total[i]))"
   ]
  },
  {
   "cell_type": "markdown",
   "metadata": {
    "id": "RZ-M76PNFYiB"
   },
   "source": [
    "## Tasks\n",
    "\n",
    "<font color=\"red\"> **MORE Tensorboard**: </font>   \n",
    "- create separate plots with 'epoch vs. loss' (in addition to the current 'interation vs. loss')\n",
    "- create separate plots with 'epoch vs. accuracy(train)' \n",
    "- create separate plots with 'epoch vs. accuracy(test)'\n",
    "(for this create separate tag 'Test')\n",
    "\n",
    "<font color=\"red\"> **IMPROVE THE MODEL**: </font>   \n",
    "\n",
    "Experiment and try to get the best performance that you can on CIFAR-10 using a ConvNet. Here are some ideas to get you started:\n",
    "(tips based on 'cs231n course')\n",
    "\n",
    "*Things to try*:\n",
    "\n",
    "- Filter size\n",
    "- Number of filters\n",
    "- Batch normalization\n",
    "- Network architecture. Some good architectures to try include:\n",
    "    - [conv-relu-pool]xN - conv - relu - [FC]xM \n",
    "    - [conv-relu-pool]XN - [FC]XM \n",
    "    - [conv-relu-conv-relu-pool]xN - [FC]xM \n",
    "- Some new fancy layers (Lambda-Layer, ...)\n",
    "\n",
    "*Some tips for training*\n",
    "\n",
    "For each network architecture that you try, you should tune the learning rate and regularization strength. When doing this there are a couple important things to keep in mind:\n",
    "\n",
    "- If the parameters are working well, you should see improvement within a few hundred iterations\n",
    "- Remember the course-to-fine approach for hyperparameter tuning: start by testing a large range of hyperparameters for just a few training iterations to find the combinations of parameters that are working at all.\n",
    "- Once you have found some sets of parameters that seem to work, search more finely around these parameters. You may need to train for more epochs.\n",
    "\n",
    "*Going above and beyond*\n",
    "\n",
    "If you are feeling adventurous there are many other features you can implement to try and improve your performance. \n",
    "\n",
    "- Alternative update steps:  SGD+momentum, RMSprop, and Adam; you could try alternatives like AdaGrad or AdaDelta.\n",
    "- Alternative activation functions such as leaky ReLU, parametric ReLU, or MaxOut.\n",
    "- Model ensembles\n",
    "- Data augmentation\n",
    "\n",
    "\n",
    "*What to expect*\n",
    "\n",
    "At the very least, you should be able to train a ConvNet that gets at least 65% accuracy on the validation set. This is just a lower bound - if you are careful it should be possible to get accuracies much higher than that! \n",
    "\n",
    "\n",
    "<font color=\"red\"> **CPU vs GPU**: </font>   \n",
    "compare time of training for CPU, GPU for different models\n",
    "\n"
   ]
  }
 ],
 "metadata": {
  "accelerator": "GPU",
  "colab": {
   "collapsed_sections": [
    "Q2C1j43ia-PP",
    "j_no4Mw2a-Pc"
   ],
   "name": "UCU_CV2020_final_practice_a3_cifar10.ipynb",
   "provenance": [],
   "toc_visible": true
  },
  "kernelspec": {
   "name": "python3",
   "display_name": "Python 3.7.9 64-bit ('py37': conda)",
   "metadata": {
    "interpreter": {
     "hash": "825c304f888622eb2544f03eecb9d57c7c30ba1cb0c50a847110b754853b8e46"
    }
   }
  },
  "language_info": {
   "codemirror_mode": {
    "name": "ipython",
    "version": 3
   },
   "file_extension": ".py",
   "mimetype": "text/x-python",
   "name": "python",
   "nbconvert_exporter": "python",
   "pygments_lexer": "ipython3",
   "version": "3.7.9-final"
  }
 },
 "nbformat": 4,
 "nbformat_minor": 1
}